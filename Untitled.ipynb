{
 "cells": [
  {
   "cell_type": "code",
   "execution_count": 9,
   "metadata": {},
   "outputs": [
    {
     "name": "stderr",
     "output_type": "stream",
     "text": [
      "[nltk_data] Downloading package stopwords to\n",
      "[nltk_data]     C:\\Users\\sayali\\AppData\\Roaming\\nltk_data...\n",
      "[nltk_data]   Package stopwords is already up-to-date!\n",
      "[nltk_data] Downloading package punkt to\n",
      "[nltk_data]     C:\\Users\\sayali\\AppData\\Roaming\\nltk_data...\n",
      "[nltk_data]   Package punkt is already up-to-date!\n"
     ]
    }
   ],
   "source": [
    "import pandas as pd\n",
    "import csv\n",
    "from collections import OrderedDict\n",
    "import re\n",
    "from nltk.tokenize import word_tokenize\n",
    "from string import punctuation \n",
    "import nltk\n",
    "nltk.download('stopwords')\n",
    "nltk.download('punkt')\n",
    "from nltk.corpus import stopwords"
   ]
  },
  {
   "cell_type": "code",
   "execution_count": 20,
   "metadata": {},
   "outputs": [
    {
     "name": "stdout",
     "output_type": "stream",
     "text": [
      "rt AT_USER 2050 URL\n"
     ]
    }
   ],
   "source": [
    "tweet = \"RT @seematri6: मुस्लिमों ने हिन्दू परिवार को दिवाली मनाने से रोका: प्रताड़ित किया, घर की लाइट्स तोड़ीं, FIR दर्ज..😡😡😡 ये मुम्बई, मलाड की घ…\"\n",
    "tweet = \"RT @Vrushk7: Mumbai -300 ff +-🔥🔥🔥🔥💥Delhi - 400ff 🔥🔥🔥🔥🔥🔥Bawal Hoga Bawal..🔥@akshaykumar\"\n",
    "tweet = \"RT @suzukinao: 最新の研究結果によると2050年には海面上昇により、世界の名だたる都市の大部分が居住不可能に。環境問題どころか、経済問題だし、軍事問題にすらなりうる。 https://t.co/QIw2sAva2U\"\n",
    "tweet = tweet.lower() # convert text to lower-case\n",
    "tweet = re.sub('((www\\.[^\\s]+)|(https?://[^\\s]+))', 'URL', tweet) # remove URLs\n",
    "tweet = re.sub('@[^\\s]+', 'AT_USER', tweet) # remove username\n",
    "tweet = re.sub(r'#([^\\s]+)', r'\\1', tweet) # remove the # in #hashtag\n",
    "#tweet = word_tokenize(tweet) # remove repeated characters (helloooooooo into hello)\n",
    "tweet = re.sub(r'\\\\s+',r' ', tweet, flags=re.I)\n",
    "tweet = re.sub(\"([^\\x00-\\x7F])+\",\" \",tweet) #remove all non-english characters\n",
    "tweet = re.sub(r\"\\s+\",\" \", tweet, flags = re.I) #remove multiple spaces\n",
    "print(tweet)\n",
    "#return [word for word in tweet if word not in self._stopwords]"
   ]
  },
  {
   "cell_type": "code",
   "execution_count": null,
   "metadata": {},
   "outputs": [],
   "source": []
  }
 ],
 "metadata": {
  "kernelspec": {
   "display_name": "Python 3",
   "language": "python",
   "name": "python3"
  },
  "language_info": {
   "codemirror_mode": {
    "name": "ipython",
    "version": 3
   },
   "file_extension": ".py",
   "mimetype": "text/x-python",
   "name": "python",
   "nbconvert_exporter": "python",
   "pygments_lexer": "ipython3",
   "version": "3.7.6"
  }
 },
 "nbformat": 4,
 "nbformat_minor": 4
}
