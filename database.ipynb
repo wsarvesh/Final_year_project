{
 "cells": [
  {
   "cell_type": "code",
<<<<<<< HEAD
   "execution_count": 3,
=======
   "execution_count": 8,
>>>>>>> 2c49c5031fd9b1fb9c869c17a11e68fc6c705df3
   "metadata": {},
   "outputs": [
    {
     "ename": "AttributeError",
<<<<<<< HEAD
     "evalue": "module 'dataset' has no attribute 'freeze'",
=======
     "evalue": "module 'streaming' has no attribute 'CONNECTION_STRING'",
>>>>>>> 2c49c5031fd9b1fb9c869c17a11e68fc6c705df3
     "output_type": "error",
     "traceback": [
      "\u001b[1;31m---------------------------------------------------------------------------\u001b[0m",
      "\u001b[1;31mAttributeError\u001b[0m                            Traceback (most recent call last)",
<<<<<<< HEAD
      "\u001b[1;32m<ipython-input-3-0157ac5e26fe>\u001b[0m in \u001b[0;36m<module>\u001b[1;34m()\u001b[0m\n\u001b[0;32m      9\u001b[0m \u001b[1;33m\u001b[0m\u001b[0m\n\u001b[0;32m     10\u001b[0m \u001b[0mresult\u001b[0m \u001b[1;33m=\u001b[0m \u001b[0mdb\u001b[0m\u001b[1;33m[\u001b[0m\u001b[1;34m\"tweets\"\u001b[0m\u001b[1;33m]\u001b[0m\u001b[1;33m.\u001b[0m\u001b[0mall\u001b[0m\u001b[1;33m(\u001b[0m\u001b[1;33m)\u001b[0m\u001b[1;33m\u001b[0m\u001b[0m\n\u001b[1;32m---> 11\u001b[1;33m \u001b[0mdataset\u001b[0m\u001b[1;33m.\u001b[0m\u001b[0mfreeze\u001b[0m\u001b[1;33m(\u001b[0m\u001b[0mresult\u001b[0m\u001b[1;33m,\u001b[0m \u001b[0mformat\u001b[0m\u001b[1;33m=\u001b[0m\u001b[1;34m'csv'\u001b[0m\u001b[1;33m,\u001b[0m \u001b[0mfilename\u001b[0m\u001b[1;33m=\u001b[0m\u001b[0msettings\u001b[0m\u001b[1;33m.\u001b[0m\u001b[0mCSV_NAME\u001b[0m\u001b[1;33m)\u001b[0m\u001b[1;33m\u001b[0m\u001b[0m\n\u001b[0m",
      "\u001b[1;31mAttributeError\u001b[0m: module 'dataset' has no attribute 'freeze'"
=======
      "\u001b[1;32m<ipython-input-8-45876d796565>\u001b[0m in \u001b[0;36m<module>\u001b[1;34m()\u001b[0m\n\u001b[0;32m     13\u001b[0m \u001b[1;31m#TABLE_NAME = \"tweets\"\u001b[0m\u001b[1;33m\u001b[0m\u001b[1;33m\u001b[0m\u001b[0m\n\u001b[0;32m     14\u001b[0m \u001b[1;33m\u001b[0m\u001b[0m\n\u001b[1;32m---> 15\u001b[1;33m \u001b[0mdb\u001b[0m \u001b[1;33m=\u001b[0m \u001b[0mdataset\u001b[0m\u001b[1;33m.\u001b[0m\u001b[0mconnect\u001b[0m\u001b[1;33m(\u001b[0m\u001b[0mstreaming\u001b[0m\u001b[1;33m.\u001b[0m\u001b[0mCONNECTION_STRING\u001b[0m\u001b[1;33m)\u001b[0m\u001b[1;33m\u001b[0m\u001b[0m\n\u001b[0m\u001b[0;32m     16\u001b[0m \u001b[1;33m\u001b[0m\u001b[0m\n\u001b[0;32m     17\u001b[0m \u001b[0mresult\u001b[0m \u001b[1;33m=\u001b[0m \u001b[0mdb\u001b[0m\u001b[1;33m[\u001b[0m\u001b[0mstreaming\u001b[0m\u001b[1;33m.\u001b[0m\u001b[0mTABLE_NAME\u001b[0m\u001b[1;33m]\u001b[0m\u001b[1;33m.\u001b[0m\u001b[0mall\u001b[0m\u001b[1;33m(\u001b[0m\u001b[1;33m)\u001b[0m\u001b[1;33m\u001b[0m\u001b[0m\n",
      "\u001b[1;31mAttributeError\u001b[0m: module 'streaming' has no attribute 'CONNECTION_STRING'"
>>>>>>> 2c49c5031fd9b1fb9c869c17a11e68fc6c705df3
     ]
    }
   ],
   "source": [
    "import streaming\n",
    "import tweepy\n",
    "import dataset\n",
    "from datafreeze.app import freeze\n",
    "import normality\n",
    "from textblob import TextBlob\n",
    "\n",
    "#db = dataset.connect(\"sqlite:///tweets.db\")\n",
    "#CONNECTION_STRING = \"sqlite:///tweets.db\"\n",
    "#CSV_NAME = \"tweets.csv\"\n",
    "\n",
<<<<<<< HEAD
    "db = dataset.connect(\"sqlite:///tweets.db\")\n",
    "\n",
    "result = db[\"tweets\"].all()\n",
    "dataset.freeze(result, format='csv', filename=settings.CSV_NAME)"
=======
    "#TABLE_NAME = \"tweets\"\n",
    "\n",
    "db = dataset.connect(streaming.CONNECTION_STRING)\n",
    "\n",
    "result = db[streaming.TABLE_NAME].all()\n",
    "freeze(result, format='csv', filename=\"tweets.csv\")\n"
>>>>>>> 2c49c5031fd9b1fb9c869c17a11e68fc6c705df3
   ]
  },
  {
   "cell_type": "code",
   "execution_count": null,
   "metadata": {},
   "outputs": [],
   "source": []
  },
  {
   "cell_type": "code",
   "execution_count": null,
   "metadata": {},
   "outputs": [],
   "source": []
  }
 ],
 "metadata": {
  "kernelspec": {
   "display_name": "Python 3",
   "language": "python",
   "name": "python3"
  },
  "language_info": {
   "codemirror_mode": {
    "name": "ipython",
    "version": 3
   },
   "file_extension": ".py",
   "mimetype": "text/x-python",
   "name": "python",
   "nbconvert_exporter": "python",
   "pygments_lexer": "ipython3",
   "version": "3.6.4"
  }
 },
 "nbformat": 4,
 "nbformat_minor": 2
}
