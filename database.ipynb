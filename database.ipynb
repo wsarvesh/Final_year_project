{
 "cells": [
  {
   "cell_type": "code",
   "execution_count": 6,
   "metadata": {},
   "outputs": [],
   "source": [
    "  \n",
    "import streaming\n",
    "import tweepy\n",
    "import dataset\n",
    "from datafreeze import freeze\n",
    "import normality\n",
    "\n",
    "\n",
    "CONNECTION_STRING = \"sqlite:///tweets.db\"\n",
    "CSV_NAME = \"tweets.csv\"\n",
    "TABLE_NAME = \"tweets\"\n",
    "\n",
    "db = dataset.connect(CONNECTION_STRING)\n",
    "\n",
    "result = db[TABLE_NAME].all()\n",
    "freeze(result, format='csv', filename=CSV_NAME)"
   ]
  },
  {
   "cell_type": "code",
   "execution_count": null,
   "metadata": {},
   "outputs": [],
   "source": []
  },
  {
   "cell_type": "code",
   "execution_count": null,
   "metadata": {},
   "outputs": [],
   "source": []
  }
 ],
 "metadata": {
  "kernelspec": {
   "display_name": "Python 3",
   "language": "python",
   "name": "python3"
  },
  "language_info": {
   "codemirror_mode": {
    "name": "ipython",
    "version": 3
   },
   "file_extension": ".py",
   "mimetype": "text/x-python",
   "name": "python",
   "nbconvert_exporter": "python",
   "pygments_lexer": "ipython3",
   "version": "3.6.4"
  }
 },
 "nbformat": 4,
 "nbformat_minor": 2
}
