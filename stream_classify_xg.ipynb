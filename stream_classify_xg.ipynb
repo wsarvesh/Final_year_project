{
 "cells": [
  {
   "cell_type": "code",
   "execution_count": 9,
   "metadata": {},
   "outputs": [
    {
     "name": "stdout",
     "output_type": "stream",
     "text": [
      "[nltk_data] Downloading package stopwords to\n",
      "[nltk_data]     C:\\Users\\Admin\\AppData\\Roaming\\nltk_data...\n",
      "[nltk_data]   Package stopwords is already up-to-date!\n",
      "[nltk_data] Downloading package punkt to\n",
      "[nltk_data]     C:\\Users\\Admin\\AppData\\Roaming\\nltk_data...\n",
      "[nltk_data]   Package punkt is already up-to-date!\n",
      "[nltk_data] Downloading package averaged_perceptron_tagger to\n",
      "[nltk_data]     C:\\Users\\Admin\\AppData\\Roaming\\nltk_data...\n",
      "[nltk_data]   Package averaged_perceptron_tagger is already up-to-\n",
      "[nltk_data]       date!\n"
     ]
    }
   ],
   "source": [
    "from tweepy.streaming import StreamListener\n",
    "from tweepy import OAuthHandler\n",
    "from tweepy import Stream\n",
    "import pandas as pd\n",
    "import json\n",
    "# import dataset\n",
    "import credentials\n",
    "import sqlite3\n",
    "import nltk\n",
    "from nltk.tokenize import RegexpTokenizer\n",
    "nltk.download('stopwords')\n",
    "nltk.download('punkt')\n",
    "nltk.download('averaged_perceptron_tagger')\n",
    "import pickle\n",
    "from Naive_bayes_model import *\n",
    "import xgboost as xgb"
   ]
  },
  {
   "cell_type": "code",
   "execution_count": 10,
   "metadata": {},
   "outputs": [],
   "source": [
    "f = open('nb2.pickle', 'rb')\n",
    "NBayesClassifier = pickle.load(f)\n",
    "f.close()"
   ]
  },
  {
   "cell_type": "code",
   "execution_count": 11,
   "metadata": {},
   "outputs": [],
   "source": [
    "f1 = open('xgb', 'rb')\n",
    "XGBClassifier = pickle.load(f1)\n",
    "f1.close()"
   ]
  },
  {
   "cell_type": "code",
   "execution_count": 12,
   "metadata": {},
   "outputs": [],
   "source": [
    "conn = sqlite3.connect('tweet2.db')\n",
    "c = conn.cursor()"
   ]
  },
  {
   "cell_type": "code",
   "execution_count": 13,
   "metadata": {},
   "outputs": [],
   "source": [
    "def pred(data):\n",
    "    \n",
    "    tweetProcessor = PreProcessTweets()\n",
    "    preprocessedTrainingSet = tweetProcessor.processTweets(data)\n",
    "    \n",
    "    word_features = buildVocabulary(preprocessedTrainingSet)\n",
    "#     print(\"\\n\",word_features,\"\\n\")\n",
    "#     buildVocabulary(preprocessedTrainingSet)\n",
    "    trainingFeatures = nltk.classify.apply_features(extract_features, preprocessedTrainingSet)\n",
    "    \n",
    "    print(preprocessedTrainingSet[0][0])\n",
    "    \n",
    "    NB = NBayesClassifier.classify(extract_features(preprocessedTrainingSet[0][0],word_features))\n",
    "    \n",
    "    return NB\n",
    "    "
   ]
  },
  {
   "cell_type": "code",
   "execution_count": 14,
   "metadata": {},
   "outputs": [],
   "source": [
    "\n",
    "def attributeselection(tweet,query_word):\n",
    "    attr= []\n",
    "\n",
    "    #text = \"Alleged East Bay serial arsonist arrested #SanFrancisco - http://t.co/ojuHfkHVb2\"\n",
    "    tweet = tweet.lower() # convert text to lower-case\n",
    "    tweet = re.sub('((www\\.[^\\s]+)|(https?://[^\\s]+))', 'URL', tweet) # remove URLs\n",
    "    tweet = re.sub('@[^\\s]+', 'AT_USER', tweet) # remove username\n",
    "    tweet = re.sub(r'#([^\\s]+)', r'\\1', tweet) # remove the # in #hashtag\n",
    "    tweet = re.sub(r'\\\\s+',r' ', tweet, flags=re.I)\n",
    "    tweet = re.sub(\"([^\\x00-\\x7F])+\",\" \",tweet) #remove all non-english characters\n",
    "    tweet = re.sub(r\"\\s+\",\" \", tweet, flags = re.I) #remove multiple spaces\n",
    "    text = tweet\n",
    "    text = nltk.word_tokenize(text)\n",
    "    poslist = nltk.pos_tag(text)\n",
    "#     print(poslist)\n",
    "\n",
    "    verblist = []\n",
    "    for i in range(len(poslist)):\n",
    "        if poslist[i][1].startswith('V'):\n",
    "            verblist.append(poslist[i])\n",
    "    \n",
    "    word_count = len(poslist)\n",
    "#     print(word_count)\n",
    "\n",
    "    if len(verblist) == 0:\n",
    "        l = (query_word,'VB')\n",
    "        verblist.append(l)\n",
    "    \n",
    "#     print(verblist,\"\\n\")\n",
    "    verb_count = len(verblist)\n",
    "#     print(verb_count)\n",
    "\n",
    "   # query_word = 'arson'\n",
    "\n",
    "    words_before = words_after = 0\n",
    "    for i in range(len(poslist)):\n",
    "        if poslist[i][0].startswith(query_word):\n",
    "            words_before = i\n",
    "\n",
    "    words_after = word_count - words_before - 1\n",
    "\n",
    "#     print(words_before)\n",
    "#     print(words_after)\n",
    "    verbs = []    \n",
    "    attr.append(word_count)\n",
    "#     for i in verblist:\n",
    "#         print(i[0])\n",
    "#         verbs.append(i[0])\n",
    "#     attr.append(verbs)\n",
    "    attr.append(verb_count)\n",
    "    attr.append(words_before + 1)\n",
    "#     attr_query_word.append(query_word)\n",
    "    attr.append(words_before)\n",
    "    attr.append(words_after)\n",
    "    \n",
    "    \n",
    "        \n",
    "    column_names = ['no_of_words', 'no_of_verbs', 'pos_query_word', 'word_before', 'word_after']\n",
    "    print(attr,column_names)\n",
    "    df = pd.DataFrame([attr], columns=column_names)\n",
    "    arr_x=df.to_numpy(dtype=object)\n",
    "    print(arr_x,arr_x.shape)\n",
    "    y_pred = XGBClassifier.predict(arr_x)\n",
    "    print(\"PRIORITY: \",y_pred)\n",
    "    \n",
    "    "
   ]
  },
  {
   "cell_type": "code",
   "execution_count": 15,
   "metadata": {},
   "outputs": [],
   "source": [
    "class TwitterStreamer():\n",
    "    \n",
    "    def stream_tweets(self, fetched_tweets_filename, hash_tag_list):\n",
    "        listener = StdOutListener(fetched_tweets_filename)\n",
    "        auth = OAuthHandler(credentials.CONSUMER_KEY, credentials.CONSUMER_SECRET)\n",
    "        auth.set_access_token(credentials.ACCESS_TOKEN, credentials.ACCESS_TOKEN_SECRET)\n",
    "        \n",
    "        stream = Stream(auth, listener,tweet_mode='extended')\n",
    "        \n",
    "        stream.filter(languages=[\"en\"],track=['coronavirus'])\n",
    "        \n",
    " \n",
    "class StdOutListener(StreamListener):\n",
    "    \n",
    "    def on_status(self, status):\n",
    "        print(status.text)\n",
    "\n",
    "    def on_error(self, status):\n",
    "        print(status)\n",
    "\n",
    "    def on_data(self, data):\n",
    "        all_data             = json.loads(data)\n",
    "        created_at           = all_data['created_at']\n",
    "        favorite_count       = all_data['favorite_count']\n",
    "        favorited            = all_data['favorited']\n",
    "        filter_level         = all_data['filter_level']\n",
    "        lang                 = all_data['lang']\n",
    "        retweet_count        = all_data['retweet_count']\n",
    "        retweeted            = all_data['retweeted']\n",
    "        source               = all_data['source']\n",
    "        text                 = all_data['text']\n",
    "        truncated            = all_data['truncated']\n",
    "        user_created_at      = all_data['user']['created_at']\n",
    "        user_followers_count = all_data['user']['followers_count']\n",
    "        user_location        = all_data['user']['location']\n",
    "        user_lang            = all_data['user']['lang']\n",
    "        user_name            = all_data['user']['name']\n",
    "        user_screen_name     = all_data['user']['screen_name']\n",
    "        user_time_zone       = all_data['user']['time_zone']\n",
    "        user_utc_offset      = all_data['user']['utc_offset']\n",
    "        user_friends_count   = all_data['user']['friends_count']\n",
    "        geo_enabled          = all_data['user']['geo_enabled']  \n",
    "        coordinates          = all_data['coordinates']\n",
    "        geo                  = all_data['geo']\n",
    "        place                = all_data['place']\n",
    "        if place is not None:\n",
    "            place_name       = all_data['place']['name']\n",
    "        else:\n",
    "            place_name       = all_data['place']\n",
    "\n",
    "        print(\"Tweet: \"+text+\"\\n\")\n",
    "        \n",
    "        data = [{'text': text,'Classfication': ''}]\n",
    "        \n",
    "        info = pred(data)\n",
    "        \n",
    "        if info == 'Relevant' or info == 1 or info == '1':\n",
    "            attributeselection(text,'coronavirus')\n",
    "            \n",
    "        print(\"\\n Class: \"+info+\"\\n\")\n",
    "                         \n",
    "        c.execute('''INSERT INTO tweets \n",
    "        (created_at, favorite_count, favorited, filter_level, lang, \n",
    "                         retweet_count, retweeted, source, text, truncated, user_created_at,  \n",
    "                         user_followers_count, user_location, user_lang, user_name, \n",
    "                         user_screen_name, user_time_zone, user_friends_count,geo_enabled,coordinates,geo,place_name ) \n",
    "            VALUES (?,?,?,?,?,?,?,?,?,?,?,?,?,?,?,?,?,?,?,?,?,?)''', \n",
    "            (created_at, favorite_count, favorited, filter_level, lang, retweet_count, \n",
    "                         retweeted, source, text, truncated, user_created_at, \n",
    "                         user_followers_count, user_location, user_lang, user_name, \n",
    "                         user_screen_name, user_time_zone, user_friends_count,geo_enabled,coordinates,geo,place_name ))\n",
    "        \n",
    "        c.execute('''INSERT INTO tweet_class \n",
    "        (text, class) \n",
    "            VALUES (?,?)''', \n",
    "            (text, info))\n",
    "        \n",
    "        conn.commit()"
   ]
  },
  {
   "cell_type": "code",
   "execution_count": 16,
   "metadata": {},
   "outputs": [
    {
     "name": "stdout",
     "output_type": "stream",
     "text": [
      "Tweet: RT @CREWcrew: We need to talk about Jared Kushner's coronavirus task force, and how it appears to be breaking not one, but two laws by oper…\n",
      "\n",
      "['rt', 'need', 'talk', 'jared', 'kushner', \"'s\", 'coronavirus', 'task', 'force', 'appears', 'breaking', 'one', 'two', 'laws', 'oper…']\n",
      "\n",
      " Class: Not Relevant\n",
      "\n",
      "Tweet: RT @BadFoxGraphics: \"A team of Oscar engineers, project managers, and executives spent about five days building a stand-alone website at th…\n",
      "\n",
      "['rt', '``', 'team', 'oscar', 'engineers', 'project', 'managers', 'executives', 'spent', 'five', 'days', 'building', 'stand-alone', 'website', 'th…']\n",
      "[24, 3, 1, 0, 23] ['no_of_words', 'no_of_verbs', 'pos_query_word', 'word_before', 'word_after']\n",
      "[[24 3 1 0 23]] (1, 5)\n",
      "PRIORITY:  [0]\n",
      "\n",
      " Class: Relevant\n",
      "\n",
      "Tweet: RT @AaronFullerton: Your coronavirus/April Fool's plan is a bad idea. Trust me.\n",
      "\n",
      "['rt', 'coronavirus/april', 'fool', \"'s\", 'plan', 'bad', 'idea', 'trust']\n",
      "\n",
      " Class: Not Relevant\n",
      "\n"
     ]
    },
    {
     "name": "stderr",
     "output_type": "stream",
     "text": [
      "C:\\Users\\Admin\\Anaconda3\\lib\\site-packages\\sklearn\\preprocessing\\label.py:151: DeprecationWarning: The truth value of an empty array is ambiguous. Returning False, but in future this will result in an error. Use `array.size > 0` to check that an array is not empty.\n",
      "  if diff:\n"
     ]
    },
    {
     "name": "stdout",
     "output_type": "stream",
     "text": [
      "Tweet: RT @Nigensei: Empty hotels all over the city of Las Vegas and they’re putting the homeless in a fucking parking lot.\n",
      "\n",
      "['rt', 'empty', 'hotels', 'city', 'las', 'vegas', '’', 'putting', 'homeless', 'fucking', 'parking', 'lot']\n",
      "\n",
      " Class: Not Relevant\n",
      "\n",
      "Tweet: RT @paperdragun: she prolly don’t even know about the coronavirus https://t.co/E7PU5BY8yZ\n",
      "\n",
      "['rt', 'prolly', '’', 'even', 'know', 'coronavirus']\n",
      "\n",
      " Class: Not Relevant\n",
      "\n",
      "Tweet: RT @carolecadwalla: ‘Now that we've missed the opportunity for early testing, is it too late for testing to make a difference?’\n",
      "\n",
      "‘Absolutel…\n",
      "\n",
      "['rt', '‘', \"'ve\", 'missed', 'opportunity', 'early', 'testing', 'late', 'testing', 'make', 'difference', '’', '‘', 'absolutel…']\n",
      "[25, 5, 1, 0, 24] ['no_of_words', 'no_of_verbs', 'pos_query_word', 'word_before', 'word_after']\n",
      "[[25 5 1 0 24]] (1, 5)\n",
      "PRIORITY:  [0]\n",
      "\n",
      " Class: Relevant\n",
      "\n"
     ]
    },
    {
     "name": "stderr",
     "output_type": "stream",
     "text": [
      "C:\\Users\\Admin\\Anaconda3\\lib\\site-packages\\sklearn\\preprocessing\\label.py:151: DeprecationWarning: The truth value of an empty array is ambiguous. Returning False, but in future this will result in an error. Use `array.size > 0` to check that an array is not empty.\n",
      "  if diff:\n"
     ]
    },
    {
     "name": "stdout",
     "output_type": "stream",
     "text": [
      "Tweet: Go easy on yourself. As a long-time #RemoteWorker, my focus isn't where it was before #Coronavirus. You're not the… https://t.co/pZdXZAM7XV\n",
      "\n",
      "['go', 'easy', 'long-time', 'remoteworker', 'focus', \"n't\", 'coronavirus', \"'re\", 'the…']\n",
      "\n",
      " Class: Not Relevant\n",
      "\n",
      "Tweet: RT @charliekirk11: Why is it that—because of Coronavirus—pastors are being arrested for holding church services but child rapists are being…\n",
      "\n",
      "['rt', 'that—because', 'coronavirus—pastors', 'arrested', 'holding', 'church', 'services', 'child', 'rapists', 'being…']\n",
      "[22, 7, 9, 8, 13] ['no_of_words', 'no_of_verbs', 'pos_query_word', 'word_before', 'word_after']\n",
      "[[22 7 9 8 13]] (1, 5)\n",
      "PRIORITY:  [0]\n",
      "\n",
      " Class: Relevant\n",
      "\n"
     ]
    },
    {
     "name": "stderr",
     "output_type": "stream",
     "text": [
      "C:\\Users\\Admin\\Anaconda3\\lib\\site-packages\\sklearn\\preprocessing\\label.py:151: DeprecationWarning: The truth value of an empty array is ambiguous. Returning False, but in future this will result in an error. Use `array.size > 0` to check that an array is not empty.\n",
      "  if diff:\n"
     ]
    },
    {
     "name": "stdout",
     "output_type": "stream",
     "text": [
      "Tweet: RT @associatesmind: There is being an asshole in a crisis, and then there is President-of-the-HOA-during-a-crisis level of asshole. \n",
      "\n",
      "#Coro…\n",
      "\n",
      "['rt', 'asshole', 'crisis', 'president-of-the-hoa-during-a-crisis', 'level', 'asshole', 'coro…']\n",
      "\n",
      " Class: Not Relevant\n",
      "\n",
      "Tweet: RT @funder: Moscow Mitch McConnell says everyone was distracted with impeachment and that’s why Trump failed with his coronavirus response.…\n",
      "\n",
      "['rt', 'moscow', 'mitch', 'mcconnell', 'says', 'everyone', 'distracted', 'impeachment', '’', 'trump', 'failed', 'coronavirus', 'response.…']\n",
      "[22, 4, 20, 19, 2] ['no_of_words', 'no_of_verbs', 'pos_query_word', 'word_before', 'word_after']\n",
      "[[22 4 20 19 2]] (1, 5)\n",
      "PRIORITY:  [0]\n",
      "\n",
      " Class: Relevant\n",
      "\n"
     ]
    },
    {
     "name": "stderr",
     "output_type": "stream",
     "text": [
      "C:\\Users\\Admin\\Anaconda3\\lib\\site-packages\\sklearn\\preprocessing\\label.py:151: DeprecationWarning: The truth value of an empty array is ambiguous. Returning False, but in future this will result in an error. Use `array.size > 0` to check that an array is not empty.\n",
      "  if diff:\n"
     ]
    },
    {
     "name": "stdout",
     "output_type": "stream",
     "text": [
      "Tweet: Those ones the travel?\n",
      "\n",
      "['ones', 'travel']\n",
      "\n",
      " Class: Not Relevant\n",
      "\n",
      "Tweet: RT @HenryMakow: https://t.co/mkkntLtzzD\n",
      "\n",
      "Belarus President Lukashenko Takes One Look at Coronavirus and Spits in Its Eye. Won’t Rescind Fre…\n",
      "\n",
      "['rt', 'belarus', 'president', 'lukashenko', 'takes', 'one', 'look', 'coronavirus', 'spits', 'eye', '’', 'rescind', 'fre…']\n",
      "[21, 3, 11, 10, 10] ['no_of_words', 'no_of_verbs', 'pos_query_word', 'word_before', 'word_after']\n",
      "[[21 3 11 10 10]] (1, 5)\n",
      "PRIORITY:  [0]\n",
      "\n",
      " Class: Relevant\n",
      "\n"
     ]
    },
    {
     "name": "stderr",
     "output_type": "stream",
     "text": [
      "C:\\Users\\Admin\\Anaconda3\\lib\\site-packages\\sklearn\\preprocessing\\label.py:151: DeprecationWarning: The truth value of an empty array is ambiguous. Returning False, but in future this will result in an error. Use `array.size > 0` to check that an array is not empty.\n",
      "  if diff:\n"
     ]
    },
    {
     "name": "stdout",
     "output_type": "stream",
     "text": [
      "Tweet: RT @WhiteHouse: To keep the momentum going in slowing the spread of Coronavirus, the President has extended his nationwide Coronavirus Guid…\n",
      "\n",
      "['rt', 'keep', 'momentum', 'going', 'slowing', 'spread', 'coronavirus', 'president', 'extended', 'nationwide', 'coronavirus', 'guid…']\n",
      "\n",
      " Class: Not Relevant\n",
      "\n",
      "Tweet: RT @BNODesk: BREAKING: Italy confirms 4,053 new cases and 837 new deaths since yesterday, raising total to 105,792 cases and 12,428 dead ht…\n",
      "\n",
      "['rt', 'breaking', 'italy', 'confirms', '4,053', 'new', 'cases', '837', 'new', 'deaths', 'since', 'yesterday', 'raising', 'total', '105,792', 'cases', '12,428', 'dead', 'ht…']\n",
      "[25, 2, 1, 0, 24] ['no_of_words', 'no_of_verbs', 'pos_query_word', 'word_before', 'word_after']\n",
      "[[25 2 1 0 24]] (1, 5)\n",
      "PRIORITY:  [0]\n",
      "\n",
      " Class: Relevant\n",
      "\n"
     ]
    },
    {
     "name": "stderr",
     "output_type": "stream",
     "text": [
      "C:\\Users\\Admin\\Anaconda3\\lib\\site-packages\\sklearn\\preprocessing\\label.py:151: DeprecationWarning: The truth value of an empty array is ambiguous. Returning False, but in future this will result in an error. Use `array.size > 0` to check that an array is not empty.\n",
      "  if diff:\n"
     ]
    },
    {
     "name": "stdout",
     "output_type": "stream",
     "text": [
      "Tweet: RT @LookNoFurther4: The Pentagon's plan to keep military #Covid_19 statistics secret isn't going well.  The USS Theodore Roosevelt is in tr…\n",
      "\n",
      "['rt', 'pentagon', \"'s\", 'plan', 'keep', 'military', 'covid_19', 'statistics', 'secret', \"n't\", 'going', 'well', 'uss', 'theodore', 'roosevelt', 'tr…']\n",
      "\n",
      " Class: Not Relevant\n",
      "\n",
      "Tweet: RT @funder: .@CNN &amp; @MSNBC should stop airing Trump’s coronavirus press conferences. Raise your hand if you agree. #StopAiringTrump\n",
      "\n",
      "['rt', '.AT_USER', 'amp', 'stop', 'airing', 'trump', '’', 'coronavirus', 'press', 'conferences', 'raise', 'hand', 'agree', 'stopairingtrump']\n",
      "\n",
      " Class: Not Relevant\n",
      "\n",
      "Tweet: RT @narendramodi: The entire Reliance team has been making effective contributions in the fight against COVID-19. Be it in healthcare or as…\n",
      "\n",
      "['rt', 'entire', 'reliance', 'team', 'making', 'effective', 'contributions', 'fight', 'covid-19', 'healthcare', 'as…']\n",
      "\n",
      " Class: Not Relevant\n",
      "\n",
      "Tweet: RT @AmoneyResists: Trump held rallies on:\n",
      "—Jan 9th\n",
      "—Jan 14th\n",
      "—Jan 28th\n",
      "—Jan 30th\n",
      "—Feb 10th\n",
      "—Feb 19th\n",
      "—Feb 20th\n",
      "—Feb 21st\n",
      "—Feb 28th\n",
      "\n",
      "He golf…\n",
      "\n",
      "['rt', 'trump', 'held', 'rallies', '—jan', '9th', '—jan', '14th', '—jan', '28th', '—jan', '30th', '—feb', '10th', '—feb', '19th', '—feb', '20th', '—feb', '21st', '—feb', '28th', 'golf…']\n",
      "[27, 1, 1, 0, 26] ['no_of_words', 'no_of_verbs', 'pos_query_word', 'word_before', 'word_after']\n",
      "[[27 1 1 0 26]] (1, 5)\n",
      "PRIORITY:  [0]\n",
      "\n",
      " Class: Relevant\n",
      "\n"
     ]
    },
    {
     "name": "stderr",
     "output_type": "stream",
     "text": [
      "C:\\Users\\Admin\\Anaconda3\\lib\\site-packages\\sklearn\\preprocessing\\label.py:151: DeprecationWarning: The truth value of an empty array is ambiguous. Returning False, but in future this will result in an error. Use `array.size > 0` to check that an array is not empty.\n",
      "  if diff:\n"
     ]
    },
    {
     "name": "stdout",
     "output_type": "stream",
     "text": [
      "Tweet: RT @Skinnyy_B: The same brand that gave women ovarian cancer w their baby powder?\n",
      "\n",
      "['rt', 'brand', 'gave', 'women', 'ovarian', 'cancer', 'w', 'baby', 'powder']\n",
      "\n",
      " Class: Not Relevant\n",
      "\n",
      "Tweet: RT @HowToBuildATent: Coronavirus is doing what alcohol does.\n",
      "\n",
      "It’s bringing people’s true colors out for the world to see. https://t.co/EB7…\n",
      "\n",
      "['rt', 'coronavirus', 'alcohol', '’', 'bringing', 'people', '’', 'true', 'colors', 'world', 'see']\n",
      "[24, 8, 3, 2, 21] ['no_of_words', 'no_of_verbs', 'pos_query_word', 'word_before', 'word_after']\n",
      "[[24 8 3 2 21]] (1, 5)\n",
      "PRIORITY:  [0]\n",
      "\n",
      " Class: Relevant\n",
      "\n"
     ]
    },
    {
     "name": "stderr",
     "output_type": "stream",
     "text": [
      "C:\\Users\\Admin\\Anaconda3\\lib\\site-packages\\sklearn\\preprocessing\\label.py:151: DeprecationWarning: The truth value of an empty array is ambiguous. Returning False, but in future this will result in an error. Use `array.size > 0` to check that an array is not empty.\n",
      "  if diff:\n",
      "C:\\Users\\Admin\\Anaconda3\\lib\\site-packages\\sklearn\\preprocessing\\label.py:151: DeprecationWarning: The truth value of an empty array is ambiguous. Returning False, but in future this will result in an error. Use `array.size > 0` to check that an array is not empty.\n",
      "  if diff:\n"
     ]
    },
    {
     "name": "stdout",
     "output_type": "stream",
     "text": [
      "Tweet: RT @4everNeverTrump: @ByronYork @henryolsenEPPC The CDC issued its first warning on Jan 8.\n",
      "\n",
      "Trump held campaign rallies on Jan 9, Jan 14, J…\n",
      "\n",
      "['rt', 'cdc', 'issued', 'first', 'warning', 'jan', '8.', 'trump', 'held', 'campaign', 'rallies', 'jan', '9', 'jan', '14', 'j…']\n",
      "[25, 2, 1, 0, 24] ['no_of_words', 'no_of_verbs', 'pos_query_word', 'word_before', 'word_after']\n",
      "[[25 2 1 0 24]] (1, 5)\n",
      "PRIORITY:  [0]\n",
      "\n",
      " Class: Relevant\n",
      "\n",
      "Tweet: RT @NorbertElekes: BREAKING: Italy reports 4,053 new cases of coronavirus and 837 new deaths.\n",
      "\n",
      "Total of 105,792 cases and 12,428 deaths.\n",
      "\n",
      "['rt', 'breaking', 'italy', 'reports', '4,053', 'new', 'cases', 'coronavirus', '837', 'new', 'deaths', 'total', '105,792', 'cases', '12,428', 'deaths']\n",
      "[24, 1, 11, 10, 13] ['no_of_words', 'no_of_verbs', 'pos_query_word', 'word_before', 'word_after']\n",
      "[[24 1 11 10 13]] (1, 5)\n",
      "PRIORITY:  [0]\n",
      "\n",
      " Class: Relevant\n",
      "\n"
     ]
    },
    {
     "name": "stderr",
     "output_type": "stream",
     "text": [
      "C:\\Users\\Admin\\Anaconda3\\lib\\site-packages\\sklearn\\preprocessing\\label.py:151: DeprecationWarning: The truth value of an empty array is ambiguous. Returning False, but in future this will result in an error. Use `array.size > 0` to check that an array is not empty.\n",
      "  if diff:\n",
      "C:\\Users\\Admin\\Anaconda3\\lib\\site-packages\\sklearn\\preprocessing\\label.py:151: DeprecationWarning: The truth value of an empty array is ambiguous. Returning False, but in future this will result in an error. Use `array.size > 0` to check that an array is not empty.\n",
      "  if diff:\n"
     ]
    },
    {
     "name": "stdout",
     "output_type": "stream",
     "text": [
      "Tweet: RT @iMac_too: 10 foreign Mullahs discovered in a Mosque of Newasa town in Ahmednagar district, Maharashtra\n",
      "\n",
      "['rt', '10', 'foreign', 'mullahs', 'discovered', 'mosque', 'newasa', 'town', 'ahmednagar', 'district', 'maharashtra']\n",
      "[17, 1, 1, 0, 16] ['no_of_words', 'no_of_verbs', 'pos_query_word', 'word_before', 'word_after']\n",
      "[[17 1 1 0 16]] (1, 5)\n",
      "PRIORITY:  [0]\n",
      "\n",
      " Class: Relevant\n",
      "\n",
      "Tweet: Under the cover of the coronavirus, billionaire looters are stealing America's air, water, and soil https://t.co/4bYoDyHzhu\n",
      "\n",
      "['cover', 'coronavirus', 'billionaire', 'looters', 'stealing', 'america', \"'s\", 'air', 'water', 'soil']\n",
      "[20, 2, 6, 5, 14] ['no_of_words', 'no_of_verbs', 'pos_query_word', 'word_before', 'word_after']\n",
      "[[20 2 6 5 14]] (1, 5)\n",
      "PRIORITY:  [0]\n",
      "\n",
      " Class: Relevant\n",
      "\n"
     ]
    },
    {
     "name": "stderr",
     "output_type": "stream",
     "text": [
      "C:\\Users\\Admin\\Anaconda3\\lib\\site-packages\\sklearn\\preprocessing\\label.py:151: DeprecationWarning: The truth value of an empty array is ambiguous. Returning False, but in future this will result in an error. Use `array.size > 0` to check that an array is not empty.\n",
      "  if diff:\n"
     ]
    },
    {
     "name": "stdout",
     "output_type": "stream",
     "text": [
      "Tweet: RT @thedailybeast: BREAKING: U.S. Secretary of State Mike Pompeo reportedly confirmed on Tuesday that a state department official had died…\n",
      "\n",
      "['rt', 'breaking', 'u.s.', 'secretary', 'state', 'mike', 'pompeo', 'reportedly', 'confirmed', 'tuesday', 'state', 'department', 'official', 'died…']\n",
      "[21, 3, 1, 0, 20] ['no_of_words', 'no_of_verbs', 'pos_query_word', 'word_before', 'word_after']\n",
      "[[21 3 1 0 20]] (1, 5)\n",
      "PRIORITY:  [0]\n",
      "\n",
      " Class: Relevant\n",
      "\n"
     ]
    },
    {
     "name": "stderr",
     "output_type": "stream",
     "text": [
      "C:\\Users\\Admin\\Anaconda3\\lib\\site-packages\\sklearn\\preprocessing\\label.py:151: DeprecationWarning: The truth value of an empty array is ambiguous. Returning False, but in future this will result in an error. Use `array.size > 0` to check that an array is not empty.\n",
      "  if diff:\n"
     ]
    },
    {
     "name": "stdout",
     "output_type": "stream",
     "text": [
      "Tweet: RT @sajajohnson: The NHS is more than just doctors and nurses. I spoke to five people in vital roles whose voices haven't been heard much y…\n",
      "\n",
      "['rt', 'nhs', 'doctors', 'nurses', 'spoke', 'five', 'people', 'vital', 'roles', 'whose', 'voices', \"n't\", 'heard', 'much', 'y…']\n",
      "\n",
      " Class: Not Relevant\n",
      "\n",
      "Tweet: Play stupid games win stupid prizes\n",
      "\n",
      "['play', 'stupid', 'games', 'win', 'stupid', 'prizes']\n",
      "\n",
      " Class: Not Relevant\n",
      "\n",
      "Tweet: #COVID19 | Important questions and their answers! #coronavirus https://t.co/l9lxypuY4r\n",
      "\n",
      "['covid19', 'important', 'questions', 'answers', 'coronavirus']\n",
      "[10, 1, 9, 8, 1] ['no_of_words', 'no_of_verbs', 'pos_query_word', 'word_before', 'word_after']\n",
      "[[10 1 9 8 1]] (1, 5)\n",
      "PRIORITY:  [0]\n",
      "\n",
      " Class: Relevant\n",
      "\n",
      "Tweet: RT @AdityaRajKaul: Delhi Police had already issued orders to the organisers of #TablighiJamat to vacate premises to stop spread of #CoronaV…\n",
      "\n",
      "['rt', 'delhi', 'police', 'already', 'issued', 'orders', 'organisers', 'tablighijamat', 'vacate', 'premises', 'stop', 'spread', 'coronav…']\n",
      "[21, 4, 1, 0, 20] ['no_of_words', 'no_of_verbs', 'pos_query_word', 'word_before', 'word_after']\n",
      "[[21 4 1 0 20]] (1, 5)\n",
      "PRIORITY:  [0]\n",
      "\n",
      " Class: Relevant\n",
      "\n"
     ]
    },
    {
     "name": "stderr",
     "output_type": "stream",
     "text": [
      "C:\\Users\\Admin\\Anaconda3\\lib\\site-packages\\sklearn\\preprocessing\\label.py:151: DeprecationWarning: The truth value of an empty array is ambiguous. Returning False, but in future this will result in an error. Use `array.size > 0` to check that an array is not empty.\n",
      "  if diff:\n",
      "C:\\Users\\Admin\\Anaconda3\\lib\\site-packages\\sklearn\\preprocessing\\label.py:151: DeprecationWarning: The truth value of an empty array is ambiguous. Returning False, but in future this will result in an error. Use `array.size > 0` to check that an array is not empty.\n",
      "  if diff:\n"
     ]
    },
    {
     "name": "stdout",
     "output_type": "stream",
     "text": [
      "Tweet: BBC News - Coronavirus: Virus prompts recruitment drive for fruit pickers https://t.co/WNLzS8H4N8\n",
      "\n",
      "['bbc', 'news', 'coronavirus', 'virus', 'prompts', 'recruitment', 'drive', 'fruit', 'pickers']\n",
      "[13, 2, 4, 3, 9] ['no_of_words', 'no_of_verbs', 'pos_query_word', 'word_before', 'word_after']\n",
      "[[13 2 4 3 9]] (1, 5)\n",
      "PRIORITY:  [0]\n",
      "\n",
      " Class: Relevant\n",
      "\n",
      "Tweet: RT @MotherJones: As the nation worries about coronavirus, the Trump administration is rolling back environmental rules. https://t.co/5205Pj…\n",
      "\n",
      "['rt', 'nation', 'worries', 'coronavirus', 'trump', 'administration', 'rolling', 'back', 'environmental', 'rules']\n",
      "\n",
      " Class: Not Relevant\n",
      "\n"
     ]
    },
    {
     "name": "stderr",
     "output_type": "stream",
     "text": [
      "C:\\Users\\Admin\\Anaconda3\\lib\\site-packages\\sklearn\\preprocessing\\label.py:151: DeprecationWarning: The truth value of an empty array is ambiguous. Returning False, but in future this will result in an error. Use `array.size > 0` to check that an array is not empty.\n",
      "  if diff:\n"
     ]
    },
    {
     "name": "stdout",
     "output_type": "stream",
     "text": [
      "Tweet: RT @mmpadellan: OK, who had the My Pillow guy appearing in a \"coronavirus briefing\" on their crazy BINGO card?\n",
      "\n",
      "No you didn't. Stop.\n",
      "This i…\n",
      "\n",
      "['rt', 'ok', 'pillow', 'guy', 'appearing', '``', 'coronavirus', 'briefing', \"''\", 'crazy', 'bingo', 'card', \"n't\", 'stop', 'i…']\n",
      "\n",
      " Class: Not Relevant\n",
      "\n",
      "Tweet: RT @corbinball: How the Event Industry Is Assisting Hospitals and Medical Workers Around the Country Amid the Coronavirus Outbreak #eventpr…\n",
      "\n",
      "['rt', 'event', 'industry', 'assisting', 'hospitals', 'medical', 'workers', 'around', 'country', 'amid', 'coronavirus', 'outbreak', 'eventpr…']\n",
      "[20, 3, 18, 17, 2] ['no_of_words', 'no_of_verbs', 'pos_query_word', 'word_before', 'word_after']\n",
      "[[20 3 18 17 2]] (1, 5)\n",
      "PRIORITY:  [0]\n",
      "\n",
      " Class: Relevant\n",
      "\n"
     ]
    },
    {
     "name": "stderr",
     "output_type": "stream",
     "text": [
      "C:\\Users\\Admin\\Anaconda3\\lib\\site-packages\\sklearn\\preprocessing\\label.py:151: DeprecationWarning: The truth value of an empty array is ambiguous. Returning False, but in future this will result in an error. Use `array.size > 0` to check that an array is not empty.\n",
      "  if diff:\n",
      "C:\\Users\\Admin\\Anaconda3\\lib\\site-packages\\sklearn\\preprocessing\\label.py:151: DeprecationWarning: The truth value of an empty array is ambiguous. Returning False, but in future this will result in an error. Use `array.size > 0` to check that an array is not empty.\n",
      "  if diff:\n"
     ]
    },
    {
     "name": "stdout",
     "output_type": "stream",
     "text": [
      "Tweet: RT @BNODesk: BREAKING: Italy confirms 4,053 new cases and 837 new deaths since yesterday, raising total to 105,792 cases and 12,428 dead ht…\n",
      "\n",
      "['rt', 'breaking', 'italy', 'confirms', '4,053', 'new', 'cases', '837', 'new', 'deaths', 'since', 'yesterday', 'raising', 'total', '105,792', 'cases', '12,428', 'dead', 'ht…']\n",
      "[25, 2, 1, 0, 24] ['no_of_words', 'no_of_verbs', 'pos_query_word', 'word_before', 'word_after']\n",
      "[[25 2 1 0 24]] (1, 5)\n",
      "PRIORITY:  [0]\n",
      "\n",
      " Class: Relevant\n",
      "\n",
      "Tweet: RT @21WIRE: Putting things into perspective... \n",
      "\n",
      "Why not have a #lockdown for the seasonal flu next winter? \n",
      "#coronavirus #COVID19 https://…\n",
      "\n",
      "['rt', 'putting', 'things', 'perspective', '...', 'lockdown', 'seasonal', 'flu', 'next', 'winter', 'coronavirus', 'covid19']\n",
      "[22, 2, 20, 19, 2] ['no_of_words', 'no_of_verbs', 'pos_query_word', 'word_before', 'word_after']\n",
      "[[22 2 20 19 2]] (1, 5)\n",
      "PRIORITY:  [0]\n",
      "\n",
      " Class: Relevant\n",
      "\n"
     ]
    },
    {
     "name": "stderr",
     "output_type": "stream",
     "text": [
      "C:\\Users\\Admin\\Anaconda3\\lib\\site-packages\\sklearn\\preprocessing\\label.py:151: DeprecationWarning: The truth value of an empty array is ambiguous. Returning False, but in future this will result in an error. Use `array.size > 0` to check that an array is not empty.\n",
      "  if diff:\n"
     ]
    },
    {
     "name": "stdout",
     "output_type": "stream",
     "text": [
      "Tweet: RT @morningmoneyben: Never been more jealous of a curve in my life. Man they nailed it. \n",
      "Via Time. \n",
      "https://t.co/sktEp8booM https://t.co/so…\n",
      "\n",
      "['rt', 'never', 'jealous', 'curve', 'life', 'man', 'nailed', 'via', 'time']\n",
      "\n",
      " Class: Not Relevant\n",
      "\n",
      "Tweet: RT @21WIRE: Putting things into perspective... \n",
      "\n",
      "Why not have a #lockdown for the seasonal flu next winter? \n",
      "#coronavirus #COVID19 https://…\n",
      "\n",
      "['rt', 'putting', 'things', 'perspective', '...', 'lockdown', 'seasonal', 'flu', 'next', 'winter', 'coronavirus', 'covid19']\n",
      "[22, 2, 20, 19, 2] ['no_of_words', 'no_of_verbs', 'pos_query_word', 'word_before', 'word_after']\n",
      "[[22 2 20 19 2]] (1, 5)\n",
      "PRIORITY:  [0]\n",
      "\n",
      " Class: Relevant\n",
      "\n"
     ]
    },
    {
     "name": "stderr",
     "output_type": "stream",
     "text": [
      "C:\\Users\\Admin\\Anaconda3\\lib\\site-packages\\sklearn\\preprocessing\\label.py:151: DeprecationWarning: The truth value of an empty array is ambiguous. Returning False, but in future this will result in an error. Use `array.size > 0` to check that an array is not empty.\n",
      "  if diff:\n"
     ]
    },
    {
     "name": "stdout",
     "output_type": "stream",
     "text": [
      "Tweet: Couldn’t agree more.\n",
      "\n",
      "['’', 'agree']\n",
      "\n",
      " Class: Not Relevant\n",
      "\n",
      "Tweet: @realDonaldTrump Trump tanks mileage standards and guts climate change while you are concentrated on coronavirus. D… https://t.co/0cjTrFzi4Z\n",
      "\n",
      "['trump', 'tanks', 'mileage', 'standards', 'guts', 'climate', 'change', 'concentrated', 'coronavirus', 'd…']\n",
      "[18, 3, 15, 14, 3] ['no_of_words', 'no_of_verbs', 'pos_query_word', 'word_before', 'word_after']\n",
      "[[18 3 15 14 3]] (1, 5)\n",
      "PRIORITY:  [0]\n",
      "\n",
      " Class: Relevant\n",
      "\n"
     ]
    },
    {
     "name": "stderr",
     "output_type": "stream",
     "text": [
      "C:\\Users\\Admin\\Anaconda3\\lib\\site-packages\\sklearn\\preprocessing\\label.py:151: DeprecationWarning: The truth value of an empty array is ambiguous. Returning False, but in future this will result in an error. Use `array.size > 0` to check that an array is not empty.\n",
      "  if diff:\n",
      "C:\\Users\\Admin\\Anaconda3\\lib\\site-packages\\sklearn\\preprocessing\\label.py:151: DeprecationWarning: The truth value of an empty array is ambiguous. Returning False, but in future this will result in an error. Use `array.size > 0` to check that an array is not empty.\n",
      "  if diff:\n"
     ]
    },
    {
     "name": "stdout",
     "output_type": "stream",
     "text": [
      "Tweet: RT @NorbertElekes: NEW: Head of Moscow's main coronavirus hospital tested positive for coronavirus.\n",
      "\n",
      "He met with President Putin last week.…\n",
      "\n",
      "['rt', 'new', 'head', 'moscow', \"'s\", 'main', 'coronavirus', 'hospital', 'tested', 'positive', 'coronavirus', 'met', 'president', 'putin', 'last', 'week.…']\n",
      "[24, 3, 15, 14, 9] ['no_of_words', 'no_of_verbs', 'pos_query_word', 'word_before', 'word_after']\n",
      "[[24 3 15 14 9]] (1, 5)\n",
      "PRIORITY:  [1]\n",
      "\n",
      " Class: Relevant\n",
      "\n",
      "Tweet: RT @CNNPolitics: President Trump's coronavirus briefings lack a crucial element: Empathy | Analysis https://t.co/DzMs47qRz5 https://t.co/kH…\n",
      "\n",
      "['rt', 'president', 'trump', \"'s\", 'coronavirus', 'briefings', 'lack', 'crucial', 'element', 'empathy', 'analysis']\n",
      "[17, 1, 6, 5, 11] ['no_of_words', 'no_of_verbs', 'pos_query_word', 'word_before', 'word_after']\n",
      "[[17 1 6 5 11]] (1, 5)\n",
      "PRIORITY:  [0]\n",
      "\n",
      " Class: Relevant\n",
      "\n"
     ]
    },
    {
     "name": "stderr",
     "output_type": "stream",
     "text": [
      "C:\\Users\\Admin\\Anaconda3\\lib\\site-packages\\sklearn\\preprocessing\\label.py:151: DeprecationWarning: The truth value of an empty array is ambiguous. Returning False, but in future this will result in an error. Use `array.size > 0` to check that an array is not empty.\n",
      "  if diff:\n"
     ]
    },
    {
     "name": "stdout",
     "output_type": "stream",
     "text": [
      "Tweet: RT @KellyMalmberg: Thanks to Coronavirus my youngest kid is currently unemployed and is worried about paying her bills, but I can sleep at…\n",
      "\n",
      "['rt', 'thanks', 'coronavirus', 'youngest', 'kid', 'currently', 'unemployed', 'worried', 'paying', 'bills', 'sleep', 'at…']\n",
      "\n",
      " Class: Not Relevant\n",
      "\n",
      "Tweet: RT @DHSCgovuk: UPDATE on coronavirus (#COVID19) testing in the UK:\n",
      "\n",
      "As of 9am 31 March, a total of 143,186 people have been tested of which…\n",
      "\n",
      "['rt', 'update', 'coronavirus', 'covid19', 'testing', 'uk', '9am', '31', 'march', 'total', '143,186', 'people', 'tested', 'which…']\n",
      "[29, 3, 5, 4, 24] ['no_of_words', 'no_of_verbs', 'pos_query_word', 'word_before', 'word_after']\n",
      "[[29 3 5 4 24]] (1, 5)\n",
      "PRIORITY:  [0]\n",
      "\n",
      " Class: Relevant\n",
      "\n"
     ]
    },
    {
     "name": "stderr",
     "output_type": "stream",
     "text": [
      "C:\\Users\\Admin\\Anaconda3\\lib\\site-packages\\sklearn\\preprocessing\\label.py:151: DeprecationWarning: The truth value of an empty array is ambiguous. Returning False, but in future this will result in an error. Use `array.size > 0` to check that an array is not empty.\n",
      "  if diff:\n"
     ]
    },
    {
     "name": "stdout",
     "output_type": "stream",
     "text": [
      "Tweet: Highlight: “We know exactly what we need to do step by step,” J&amp;J Chief Scientific Officer Dr. Paul Stoffels says a… https://t.co/15xj1QQlBe\n",
      "\n",
      "['highlight', '“', 'know', 'exactly', 'need', 'step', 'step', '”', 'j', 'amp', 'j', 'chief', 'scientific', 'officer', 'dr.', 'paul', 'stoffels', 'says', 'a…']\n",
      "\n",
      " Class: Not Relevant\n",
      "\n",
      "Tweet: RT @Nigensei: Empty hotels all over the city of Las Vegas and they’re putting the homeless in a fucking parking lot.\n",
      "\n",
      "['rt', 'empty', 'hotels', 'city', 'las', 'vegas', '’', 'putting', 'homeless', 'fucking', 'parking', 'lot']\n",
      "\n",
      " Class: Not Relevant\n",
      "\n",
      "Tweet: RT @leilaibi: Quarantine for ever more..\n",
      "\n",
      "['rt', 'quarantine', 'ever', 'more..']\n",
      "\n",
      " Class: Not Relevant\n",
      "\n",
      "Tweet: Uhh what?\n",
      "\n",
      "['uhh']\n",
      "\n",
      " Class: Not Relevant\n",
      "\n",
      "Tweet: RT @adnan73_siddiqi: @salma_anjum1 Wow!!! Where can I find a J&amp;K Bank branch here in Karachi, I wish to bequeath every penny to fight Coron…\n",
      "\n",
      "['rt', 'wow', 'find', 'j', 'amp', 'k', 'bank', 'branch', 'karachi', 'wish', 'bequeath', 'every', 'penny', 'fight', 'coron…']\n",
      "[32, 5, 1, 0, 31] ['no_of_words', 'no_of_verbs', 'pos_query_word', 'word_before', 'word_after']\n",
      "[[32 5 1 0 31]] (1, 5)\n",
      "PRIORITY:  [0]\n",
      "\n",
      " Class: Relevant\n",
      "\n",
      "Tweet: So true ...dithering, delay and an economy first strategy has cost England many lives...decoupling from a lazy, ind… https://t.co/O5xDZxPvq0\n",
      "\n",
      "['true', '...', 'dithering', 'delay', 'economy', 'first', 'strategy', 'cost', 'england', 'many', 'lives', '...', 'decoupling', 'lazy', 'ind…']\n",
      "[24, 3, 1, 0, 23] ['no_of_words', 'no_of_verbs', 'pos_query_word', 'word_before', 'word_after']\n",
      "[[24 3 1 0 23]] (1, 5)\n",
      "PRIORITY:  [0]\n",
      "\n",
      " Class: Relevant\n",
      "\n"
     ]
    },
    {
     "name": "stderr",
     "output_type": "stream",
     "text": [
      "C:\\Users\\Admin\\Anaconda3\\lib\\site-packages\\sklearn\\preprocessing\\label.py:151: DeprecationWarning: The truth value of an empty array is ambiguous. Returning False, but in future this will result in an error. Use `array.size > 0` to check that an array is not empty.\n",
      "  if diff:\n",
      "C:\\Users\\Admin\\Anaconda3\\lib\\site-packages\\sklearn\\preprocessing\\label.py:151: DeprecationWarning: The truth value of an empty array is ambiguous. Returning False, but in future this will result in an error. Use `array.size > 0` to check that an array is not empty.\n",
      "  if diff:\n"
     ]
    },
    {
     "name": "stdout",
     "output_type": "stream",
     "text": [
      "Tweet: RT @SenWarren: Coronavirus doesn’t discriminate, but racial disparities in our health care system may mean Black and Brown families aren't…\n",
      "\n",
      "['rt', 'coronavirus', '’', 'discriminate', 'racial', 'disparities', 'health', 'care', 'system', 'may', 'mean', 'black', 'brown', 'families', \"aren't…\"]\n",
      "[23, 2, 3, 2, 20] ['no_of_words', 'no_of_verbs', 'pos_query_word', 'word_before', 'word_after']\n",
      "[[23 2 3 2 20]] (1, 5)\n",
      "PRIORITY:  [0]\n",
      "\n",
      " Class: Relevant\n",
      "\n",
      "Tweet: RT @jayasax: Reminder that Whole Foods workers are walking out today, so don't cross that picket line https://t.co/iBpLAtTCMX\n",
      "\n",
      "['rt', 'reminder', 'whole', 'foods', 'workers', 'walking', 'today', \"n't\", 'cross', 'picket', 'line']\n",
      "[20, 4, 1, 0, 19] ['no_of_words', 'no_of_verbs', 'pos_query_word', 'word_before', 'word_after']\n",
      "[[20 4 1 0 19]] (1, 5)\n",
      "PRIORITY:  [0]\n",
      "\n",
      " Class: Relevant\n",
      "\n"
     ]
    },
    {
     "name": "stderr",
     "output_type": "stream",
     "text": [
      "C:\\Users\\Admin\\Anaconda3\\lib\\site-packages\\sklearn\\preprocessing\\label.py:151: DeprecationWarning: The truth value of an empty array is ambiguous. Returning False, but in future this will result in an error. Use `array.size > 0` to check that an array is not empty.\n",
      "  if diff:\n",
      "C:\\Users\\Admin\\Anaconda3\\lib\\site-packages\\sklearn\\preprocessing\\label.py:151: DeprecationWarning: The truth value of an empty array is ambiguous. Returning False, but in future this will result in an error. Use `array.size > 0` to check that an array is not empty.\n",
      "  if diff:\n"
     ]
    },
    {
     "name": "stdout",
     "output_type": "stream",
     "text": [
      "Tweet: RT @b_fung: Amazon has fired the warehouse worker who organized a walkout yesterday to protest the level of coronavirus protections at the…\n",
      "\n",
      "['rt', 'amazon', 'fired', 'warehouse', 'worker', 'organized', 'walkout', 'yesterday', 'protest', 'level', 'coronavirus', 'protections', 'the…']\n",
      "[22, 4, 19, 18, 3] ['no_of_words', 'no_of_verbs', 'pos_query_word', 'word_before', 'word_after']\n",
      "[[22 4 19 18 3]] (1, 5)\n",
      "PRIORITY:  [0]\n",
      "\n",
      " Class: Relevant\n",
      "\n",
      "Tweet: RT @HRHBethany: @DonaldJTrumpJr @nypost Remember. \n",
      "\n",
      "The CDC issued its first warning on Jan 8.\n",
      "\n",
      "Trump held rallies on Jan 9, Jan 14, Jan 28…\n",
      "\n",
      "['rt', 'remember', 'cdc', 'issued', 'first', 'warning', 'jan', '8.', 'trump', 'held', 'rallies', 'jan', '9', 'jan', '14', 'jan', '28…']\n",
      "[27, 2, 1, 0, 26] ['no_of_words', 'no_of_verbs', 'pos_query_word', 'word_before', 'word_after']\n",
      "[[27 2 1 0 26]] (1, 5)\n",
      "PRIORITY:  [0]\n",
      "\n",
      " Class: Relevant\n",
      "\n"
     ]
    },
    {
     "name": "stderr",
     "output_type": "stream",
     "text": [
      "C:\\Users\\Admin\\Anaconda3\\lib\\site-packages\\sklearn\\preprocessing\\label.py:151: DeprecationWarning: The truth value of an empty array is ambiguous. Returning False, but in future this will result in an error. Use `array.size > 0` to check that an array is not empty.\n",
      "  if diff:\n",
      "C:\\Users\\Admin\\Anaconda3\\lib\\site-packages\\sklearn\\preprocessing\\label.py:151: DeprecationWarning: The truth value of an empty array is ambiguous. Returning False, but in future this will result in an error. Use `array.size > 0` to check that an array is not empty.\n",
      "  if diff:\n"
     ]
    },
    {
     "name": "stdout",
     "output_type": "stream",
     "text": [
      "Tweet: RT @Reuters: From rate cuts to quantitative easing: Here's a look at the Federal Reserve's actions during the coronavirus outbreak: https:/…\n",
      "\n",
      "['rt', 'rate', 'cuts', 'quantitative', 'easing', \"'s\", 'look', 'federal', 'reserve', \"'s\", 'actions', 'coronavirus', 'outbreak', 'https', '/…']\n",
      "[27, 2, 22, 21, 5] ['no_of_words', 'no_of_verbs', 'pos_query_word', 'word_before', 'word_after']\n",
      "[[27 2 22 21 5]] (1, 5)\n",
      "PRIORITY:  [0]\n",
      "\n",
      " Class: Relevant\n",
      "\n",
      "Tweet: @paddypower I think that your adverts, shown during #TheWalkingDeadUK , are unfortunately apt during this #COVID19… https://t.co/yq5WwREnkI\n",
      "\n",
      "['think', 'adverts', 'shown', 'thewalkingdeaduk', 'unfortunately', 'apt', 'covid19…']\n",
      "[18, 3, 1, 0, 17] ['no_of_words', 'no_of_verbs', 'pos_query_word', 'word_before', 'word_after']\n",
      "[[18 3 1 0 17]] (1, 5)\n",
      "PRIORITY:  [0]\n",
      "\n",
      " Class: Relevant\n",
      "\n"
     ]
    },
    {
     "name": "stderr",
     "output_type": "stream",
     "text": [
      "C:\\Users\\Admin\\Anaconda3\\lib\\site-packages\\sklearn\\preprocessing\\label.py:151: DeprecationWarning: The truth value of an empty array is ambiguous. Returning False, but in future this will result in an error. Use `array.size > 0` to check that an array is not empty.\n",
      "  if diff:\n",
      "C:\\Users\\Admin\\Anaconda3\\lib\\site-packages\\sklearn\\preprocessing\\label.py:151: DeprecationWarning: The truth value of an empty array is ambiguous. Returning False, but in future this will result in an error. Use `array.size > 0` to check that an array is not empty.\n",
      "  if diff:\n"
     ]
    },
    {
     "name": "stdout",
     "output_type": "stream",
     "text": [
      "Tweet: RT @marcorubio: Here is todays reminder of how some in the media continue to use fake numbers from #China’s Communist Party to argue not ju…\n",
      "\n",
      "['rt', 'todays', 'reminder', 'media', 'continue', 'use', 'fake', 'numbers', 'china', '’', 'communist', 'party', 'argue', 'ju…']\n",
      "[26, 5, 1, 0, 25] ['no_of_words', 'no_of_verbs', 'pos_query_word', 'word_before', 'word_after']\n",
      "[[26 5 1 0 25]] (1, 5)\n",
      "PRIORITY:  [0]\n",
      "\n",
      " Class: Relevant\n",
      "\n",
      "Tweet: RT @thehill: JUST IN: McConnell says Dem impeachment push distracted government from coronavirus threat https://t.co/vAwWRZ5UAY https://t.c…\n",
      "\n",
      "['rt', 'mcconnell', 'says', 'dem', 'impeachment', 'push', 'distracted', 'government', 'coronavirus', 'threat']\n",
      "[17, 3, 14, 13, 3] ['no_of_words', 'no_of_verbs', 'pos_query_word', 'word_before', 'word_after']\n",
      "[[17 3 14 13 3]] (1, 5)\n",
      "PRIORITY:  [0]\n",
      "\n",
      " Class: Relevant\n",
      "\n"
     ]
    },
    {
     "name": "stderr",
     "output_type": "stream",
     "text": [
      "C:\\Users\\Admin\\Anaconda3\\lib\\site-packages\\sklearn\\preprocessing\\label.py:151: DeprecationWarning: The truth value of an empty array is ambiguous. Returning False, but in future this will result in an error. Use `array.size > 0` to check that an array is not empty.\n",
      "  if diff:\n",
      "C:\\Users\\Admin\\Anaconda3\\lib\\site-packages\\sklearn\\preprocessing\\label.py:151: DeprecationWarning: The truth value of an empty array is ambiguous. Returning False, but in future this will result in an error. Use `array.size > 0` to check that an array is not empty.\n",
      "  if diff:\n"
     ]
    },
    {
     "name": "stdout",
     "output_type": "stream",
     "text": [
      "Tweet: RT @TIME: New York’s Empire State Building was lit up like an ambulance Monday night in honor of first responders and medical professionals…\n",
      "\n",
      "['rt', 'new', 'york', '’', 'empire', 'state', 'building', 'lit', 'like', 'ambulance', 'monday', 'night', 'honor', 'first', 'responders', 'medical', 'professionals…']\n",
      "\n",
      " Class: Not Relevant\n",
      "\n",
      "Tweet: RT @RobUlven: @ishakethethrone @arch1com @Presidementia @sisneruza @MaryScull @paulkrugman @RiganoESQ The whole story - Dr. Andrew G. Weber…\n",
      "\n",
      "['rt', 'whole', 'story', 'dr.', 'andrew', 'g.', 'weber…']\n",
      "\n",
      " Class: Not Relevant\n",
      "\n",
      "Tweet: RT @TheVoiceNews: Why were black NHS staff whitewashed out of Clap For Our Carers? | @dotunadebayo https://t.co/rCx1cscbME\n",
      "\n",
      "['rt', 'black', 'nhs', 'staff', 'whitewashed', 'clap', 'carers']\n",
      "\n",
      " Class: Not Relevant\n",
      "\n",
      "Tweet: RT @AndrewYang: That’s not cool. Be nice to others and appreciate each other.  🙏\n",
      "\n",
      "['rt', '’', 'cool', 'nice', 'others', 'appreciate', '🙏']\n",
      "\n",
      " Class: Not Relevant\n",
      "\n",
      "Tweet: RT @TIME: New York’s Empire State Building was lit up like an ambulance Monday night in honor of first responders and medical professionals…\n",
      "\n",
      "['rt', 'new', 'york', '’', 'empire', 'state', 'building', 'lit', 'like', 'ambulance', 'monday', 'night', 'honor', 'first', 'responders', 'medical', 'professionals…']\n",
      "\n",
      " Class: Not Relevant\n",
      "\n",
      "Tweet: @TheRickWilson The CDC issued its first warning on Jan 8.\n",
      "\n",
      "Trump held campaign rallies on Jan 9, Jan 14, Jan 28, Ja… https://t.co/WT0aM47vFU\n",
      "\n",
      "['cdc', 'issued', 'first', 'warning', 'jan', '8.', 'trump', 'held', 'campaign', 'rallies', 'jan', '9', 'jan', '14', 'jan', '28', 'ja…']\n",
      "[26, 2, 1, 0, 25] ['no_of_words', 'no_of_verbs', 'pos_query_word', 'word_before', 'word_after']\n",
      "[[26 2 1 0 25]] (1, 5)\n",
      "PRIORITY:  [0]\n",
      "\n",
      " Class: Relevant\n",
      "\n"
     ]
    },
    {
     "name": "stderr",
     "output_type": "stream",
     "text": [
      "C:\\Users\\Admin\\Anaconda3\\lib\\site-packages\\sklearn\\preprocessing\\label.py:151: DeprecationWarning: The truth value of an empty array is ambiguous. Returning False, but in future this will result in an error. Use `array.size > 0` to check that an array is not empty.\n",
      "  if diff:\n"
     ]
    },
    {
     "name": "stdout",
     "output_type": "stream",
     "text": [
      "Tweet: Using AI to fight Coronavirus,  https://t.co/QXx2ZiwzaK  artificial intelligence https://t.co/X2bsQT24bD\n",
      "\n",
      "['using', 'ai', 'fight', 'coronavirus', 'artificial', 'intelligence']\n",
      "\n",
      " Class: Not Relevant\n",
      "\n",
      "Tweet: The coronavirus crisis has exposed the ugly truth about celebrity culture and capitalism | Arwa Mahdawi https://t.co/Bn8vpkWfMK\n",
      "\n",
      "['coronavirus', 'crisis', 'exposed', 'ugly', 'truth', 'celebrity', 'culture', 'capitalism', 'arwa', 'mahdawi']\n",
      "[17, 2, 2, 1, 15] ['no_of_words', 'no_of_verbs', 'pos_query_word', 'word_before', 'word_after']\n",
      "[[17 2 2 1 15]] (1, 5)\n",
      "PRIORITY:  [0]\n",
      "\n",
      " Class: Relevant\n",
      "\n"
     ]
    },
    {
     "name": "stderr",
     "output_type": "stream",
     "text": [
      "C:\\Users\\Admin\\Anaconda3\\lib\\site-packages\\sklearn\\preprocessing\\label.py:151: DeprecationWarning: The truth value of an empty array is ambiguous. Returning False, but in future this will result in an error. Use `array.size > 0` to check that an array is not empty.\n",
      "  if diff:\n"
     ]
    },
    {
     "name": "stdout",
     "output_type": "stream",
     "text": [
      "Tweet: RT @KamalaHarris: An Asian American father and his 2-year-old and 6-year-old were stabbed because the perpetrator thought they were Chinese…\n",
      "\n",
      "['rt', 'asian', 'american', 'father', '2-year-old', '6-year-old', 'stabbed', 'perpetrator', 'thought', 'chinese…']\n",
      "\n",
      " Class: Not Relevant\n",
      "\n",
      "Tweet: Nervous Nancy the raging alcoholic broken woman Pelosis daily lie ..\n",
      "\n",
      "['nervous', 'nancy', 'raging', 'alcoholic', 'broken', 'woman', 'pelosis', 'daily', 'lie', '..']\n",
      "\n",
      " Class: Not Relevant\n",
      "\n",
      "Tweet: RT @renoomokri: Retweet this if you believe China should pay reparations to every country that has suffered human or economic loss as a res…\n",
      "\n",
      "['rt', 'retweet', 'believe', 'china', 'pay', 'reparations', 'every', 'country', 'suffered', 'human', 'economic', 'loss', 'res…']\n",
      "\n",
      " Class: Not Relevant\n",
      "\n",
      "Tweet: RT @yagiirlalyssaaa: Please watch this #coronavirus a remedy that can probably help https://t.co/qESuYCOZym\n",
      "\n",
      "['rt', 'please', 'watch', 'coronavirus', 'remedy', 'probably', 'help']\n",
      "\n",
      " Class: Not Relevant\n",
      "\n",
      "Tweet: RT @jbouie: i’m no democratic party strategist but it doesn’t seem that difficult to build a general election case against a president whos…\n",
      "\n",
      "['rt', '’', 'democratic', 'party', 'strategist', '’', 'seem', 'difficult', 'build', 'general', 'election', 'case', 'president', 'whos…']\n",
      "\n",
      " Class: Not Relevant\n",
      "\n",
      "Tweet: RT @SumanSh58123278: Small question.\n",
      "Delhi police is under center. Why Delhi police became too lethargic in any action against any Jihadi c…\n",
      "\n",
      "['rt', 'small', 'question', 'delhi', 'police', 'center', 'delhi', 'police', 'became', 'lethargic', 'action', 'jihadi', 'c…']\n",
      "[24, 2, 1, 0, 23] ['no_of_words', 'no_of_verbs', 'pos_query_word', 'word_before', 'word_after']\n",
      "[[24 2 1 0 23]] (1, 5)\n",
      "PRIORITY:  [0]\n",
      "\n",
      " Class: Relevant\n",
      "\n"
     ]
    },
    {
     "name": "stderr",
     "output_type": "stream",
     "text": [
      "C:\\Users\\Admin\\Anaconda3\\lib\\site-packages\\sklearn\\preprocessing\\label.py:151: DeprecationWarning: The truth value of an empty array is ambiguous. Returning False, but in future this will result in an error. Use `array.size > 0` to check that an array is not empty.\n",
      "  if diff:\n"
     ]
    },
    {
     "name": "stdout",
     "output_type": "stream",
     "text": [
      "Tweet: RT @Skinnyy_B: The same brand that gave women ovarian cancer w their baby powder?\n",
      "\n",
      "['rt', 'brand', 'gave', 'women', 'ovarian', 'cancer', 'w', 'baby', 'powder']\n",
      "\n",
      " Class: Not Relevant\n",
      "\n",
      "Tweet: RT @PaulHenriCadier: Coronavirus testing delayed after kits found to be contaminated by Covid-19 https://t.co/DR6FNFpCJa\n",
      "\n",
      "['rt', 'coronavirus', 'testing', 'delayed', 'kits', 'found', 'contaminated', 'covid-19']\n",
      "[14, 5, 3, 2, 11] ['no_of_words', 'no_of_verbs', 'pos_query_word', 'word_before', 'word_after']\n",
      "[[14 5 3 2 11]] (1, 5)\n",
      "PRIORITY:  [0]\n",
      "\n",
      " Class: Relevant\n",
      "\n"
     ]
    },
    {
     "name": "stderr",
     "output_type": "stream",
     "text": [
      "C:\\Users\\Admin\\Anaconda3\\lib\\site-packages\\sklearn\\preprocessing\\label.py:151: DeprecationWarning: The truth value of an empty array is ambiguous. Returning False, but in future this will result in an error. Use `array.size > 0` to check that an array is not empty.\n",
      "  if diff:\n"
     ]
    },
    {
     "name": "stdout",
     "output_type": "stream",
     "text": [
      "Tweet: RT @etiennelefleur: Garden centres giving away plants that can't be sold because of #coronavirus is great idea, but growers, wholesalers &amp;…\n",
      "\n",
      "['rt', 'garden', 'centres', 'giving', 'away', 'plants', 'ca', \"n't\", 'sold', 'coronavirus', 'great', 'idea', 'growers', 'wholesalers', 'amp', '…']\n",
      "\n",
      " Class: Not Relevant\n",
      "\n",
      "Tweet: RT @rgrunbaum: Inside the ‘incredibly challenging’ effort by GM and Ventec to make more ventilators for coronavirus fight, by @GeoffBakerTI…\n",
      "\n",
      "['rt', 'inside', '‘', 'incredibly', 'challenging', '’', 'effort', 'gm', 'ventec', 'make', 'ventilators', 'coronavirus', 'fight']\n",
      "\n",
      " Class: Not Relevant\n",
      "\n",
      "Tweet: RT @EdHull8: Trump accused of using #coronavirus briefing as corporate advertising spot as USA death toll rises beyond 3,500. #PresidentAme…\n",
      "\n",
      "['rt', 'trump', 'accused', 'using', 'coronavirus', 'briefing', 'corporate', 'advertising', 'spot', 'usa', 'death', 'toll', 'rises', 'beyond', '3,500.', 'presidentame…']\n",
      "[20, 3, 7, 6, 13] ['no_of_words', 'no_of_verbs', 'pos_query_word', 'word_before', 'word_after']\n",
      "[[20 3 7 6 13]] (1, 5)\n",
      "PRIORITY:  [0]\n",
      "\n",
      " Class: Relevant\n",
      "\n",
      "Tweet: RT @AmoneyResists: Trump held rallies on:\n",
      "—Jan 9th\n",
      "—Jan 14th\n",
      "—Jan 28th\n",
      "—Jan 30th\n",
      "—Feb 10th\n",
      "—Feb 19th\n",
      "—Feb 20th\n",
      "—Feb 21st\n",
      "—Feb 28th\n",
      "\n",
      "He golf…\n",
      "\n",
      "['rt', 'trump', 'held', 'rallies', '—jan', '9th', '—jan', '14th', '—jan', '28th', '—jan', '30th', '—feb', '10th', '—feb', '19th', '—feb', '20th', '—feb', '21st', '—feb', '28th', 'golf…']\n",
      "[27, 1, 1, 0, 26] ['no_of_words', 'no_of_verbs', 'pos_query_word', 'word_before', 'word_after']\n",
      "[[27 1 1 0 26]] (1, 5)\n",
      "PRIORITY:  [0]\n",
      "\n",
      " Class: Relevant\n",
      "\n"
     ]
    },
    {
     "name": "stderr",
     "output_type": "stream",
     "text": [
      "C:\\Users\\Admin\\Anaconda3\\lib\\site-packages\\sklearn\\preprocessing\\label.py:151: DeprecationWarning: The truth value of an empty array is ambiguous. Returning False, but in future this will result in an error. Use `array.size > 0` to check that an array is not empty.\n",
      "  if diff:\n",
      "C:\\Users\\Admin\\Anaconda3\\lib\\site-packages\\sklearn\\preprocessing\\label.py:151: DeprecationWarning: The truth value of an empty array is ambiguous. Returning False, but in future this will result in an error. Use `array.size > 0` to check that an array is not empty.\n",
      "  if diff:\n"
     ]
    },
    {
     "name": "stdout",
     "output_type": "stream",
     "text": [
      "Tweet: RT @RealBisi: Sharing stuff like this is wild because we do have people dumb enough to believe it\n",
      "\n",
      "['rt', 'sharing', 'stuff', 'like', 'wild', 'people', 'dumb', 'enough', 'believe']\n",
      "\n",
      " Class: Not Relevant\n",
      "\n",
      "Tweet: RT @MataPresident: @foxnation host: \"Con men prey on fear during coronavirus crisis; The most vulnerable among us are prime targets for cri…\n",
      "\n",
      "['rt', 'host', '``', 'con', 'men', 'prey', 'fear', 'coronavirus', 'crisis', 'vulnerable', 'among', 'us', 'prime', 'targets', 'cri…']\n",
      "\n",
      " Class: Not Relevant\n",
      "\n",
      "Tweet: RT @SWSandy_: Assistant Commissioner Neil Basu demanded that officers maintain the British tradition of 'policing by consent' as he emphasi…\n",
      "\n",
      "['rt', 'assistant', 'commissioner', 'neil', 'basu', 'demanded', 'officers', 'maintain', 'british', 'tradition', \"'policing\", 'consent', 'emphasi…']\n",
      "[21, 4, 1, 0, 20] ['no_of_words', 'no_of_verbs', 'pos_query_word', 'word_before', 'word_after']\n",
      "[[21 4 1 0 20]] (1, 5)\n",
      "PRIORITY:  [0]\n",
      "\n",
      " Class: Relevant\n",
      "\n",
      "Tweet: RT @CaslerNoel: It’s always been about how Jared can profit from the Trump Presidency, Coronavirus notwithstanding. Why do you think Kushne…\n",
      "\n",
      "['rt', '’', 'always', 'jared', 'profit', 'trump', 'presidency', 'coronavirus', 'notwithstanding', 'think', 'kushne…']\n",
      "\n",
      " Class: Not Relevant\n",
      "\n"
     ]
    },
    {
     "name": "stderr",
     "output_type": "stream",
     "text": [
      "C:\\Users\\Admin\\Anaconda3\\lib\\site-packages\\sklearn\\preprocessing\\label.py:151: DeprecationWarning: The truth value of an empty array is ambiguous. Returning False, but in future this will result in an error. Use `array.size > 0` to check that an array is not empty.\n",
      "  if diff:\n"
     ]
    },
    {
     "name": "stdout",
     "output_type": "stream",
     "text": [
      "Tweet: RT @zellieimani: Once the government called this the “War on coronavirus”, I just knew it wasn’t going to end anytime soon.\n",
      "\n",
      "['rt', 'government', 'called', '“', 'war', 'coronavirus', '”', 'knew', '’', 'going', 'end', 'anytime', 'soon']\n",
      "[24, 5, 11, 10, 13] ['no_of_words', 'no_of_verbs', 'pos_query_word', 'word_before', 'word_after']\n",
      "[[24 5 11 10 13]] (1, 5)\n",
      "PRIORITY:  [0]\n",
      "\n",
      " Class: Relevant\n",
      "\n",
      "Tweet: RT @anadoluagency: #BREAKING Death toll in Turkey from coronavirus surges to 214 after 46 more people die on Tuesday\n",
      "\n",
      "['rt', 'breaking', 'death', 'toll', 'turkey', 'coronavirus', 'surges', '214', '46', 'people', 'die', 'tuesday']\n",
      "[19, 2, 9, 8, 10] ['no_of_words', 'no_of_verbs', 'pos_query_word', 'word_before', 'word_after']\n",
      "[[19 2 9 8 10]] (1, 5)\n",
      "PRIORITY:  [0]\n",
      "\n",
      " Class: Relevant\n",
      "\n"
     ]
    },
    {
     "name": "stderr",
     "output_type": "stream",
     "text": [
      "C:\\Users\\Admin\\Anaconda3\\lib\\site-packages\\sklearn\\preprocessing\\label.py:151: DeprecationWarning: The truth value of an empty array is ambiguous. Returning False, but in future this will result in an error. Use `array.size > 0` to check that an array is not empty.\n",
      "  if diff:\n",
      "C:\\Users\\Admin\\Anaconda3\\lib\\site-packages\\sklearn\\preprocessing\\label.py:151: DeprecationWarning: The truth value of an empty array is ambiguous. Returning False, but in future this will result in an error. Use `array.size > 0` to check that an array is not empty.\n",
      "  if diff:\n"
     ]
    },
    {
     "name": "stdout",
     "output_type": "stream",
     "text": [
      "Tweet: RT @StevenBeschloss: Every time I see Trump now, I think of the coronavirus patients, in pain, gasping for air. I think how many will lose…\n",
      "\n",
      "['rt', 'every', 'time', 'see', 'trump', 'think', 'coronavirus', 'patients', 'pain', 'gasping', 'air', 'think', 'many', 'lose…']\n",
      "\n",
      " Class: Not Relevant\n",
      "\n",
      "Tweet: great little article, thanks\n",
      "\n",
      "['great', 'little', 'article', 'thanks']\n",
      "\n",
      " Class: Not Relevant\n",
      "\n",
      "Tweet: RT @cllrRLangton: Self-isolating and in need of food? You can now purchase a food parcel from Nottingham City Council, to be delivered to y…\n",
      "\n",
      "['rt', 'self-isolating', 'need', 'food', 'purchase', 'food', 'parcel', 'nottingham', 'city', 'council', 'delivered', 'y…']\n",
      "\n",
      " Class: Not Relevant\n",
      "\n",
      "Tweet: RT @RealKyleMorris: Twitter Forces @IngrahamAngle to Delete Post on Chloroquine Helping Coronavirus Patients https://t.co/ztpX0LIPIV\n",
      "\n",
      "['rt', 'twitter', 'forces', 'delete', 'post', 'chloroquine', 'helping', 'coronavirus', 'patients']\n",
      "[14, 3, 12, 11, 2] ['no_of_words', 'no_of_verbs', 'pos_query_word', 'word_before', 'word_after']\n",
      "[[14 3 12 11 2]] (1, 5)\n",
      "PRIORITY:  [0]\n",
      "\n",
      " Class: Relevant\n",
      "\n"
     ]
    },
    {
     "name": "stderr",
     "output_type": "stream",
     "text": [
      "C:\\Users\\Admin\\Anaconda3\\lib\\site-packages\\sklearn\\preprocessing\\label.py:151: DeprecationWarning: The truth value of an empty array is ambiguous. Returning False, but in future this will result in an error. Use `array.size > 0` to check that an array is not empty.\n",
      "  if diff:\n"
     ]
    },
    {
     "ename": "KeyboardInterrupt",
     "evalue": "",
     "output_type": "error",
     "traceback": [
      "\u001b[1;31m---------------------------------------------------------------------------\u001b[0m",
      "\u001b[1;31mKeyboardInterrupt\u001b[0m                         Traceback (most recent call last)",
      "\u001b[1;32m<ipython-input-16-4520dd60590a>\u001b[0m in \u001b[0;36m<module>\u001b[1;34m()\u001b[0m\n\u001b[0;32m      5\u001b[0m \u001b[1;33m\u001b[0m\u001b[0m\n\u001b[0;32m      6\u001b[0m     \u001b[0mtwitter_streamer\u001b[0m \u001b[1;33m=\u001b[0m \u001b[0mTwitterStreamer\u001b[0m\u001b[1;33m(\u001b[0m\u001b[1;33m)\u001b[0m\u001b[1;33m\u001b[0m\u001b[0m\n\u001b[1;32m----> 7\u001b[1;33m     \u001b[0mtwitter_streamer\u001b[0m\u001b[1;33m.\u001b[0m\u001b[0mstream_tweets\u001b[0m\u001b[1;33m(\u001b[0m\u001b[0mfetched_tweets_filename\u001b[0m\u001b[1;33m,\u001b[0m \u001b[0mhash_tag_list\u001b[0m\u001b[1;33m)\u001b[0m\u001b[1;33m\u001b[0m\u001b[0m\n\u001b[0m",
      "\u001b[1;32m<ipython-input-15-5442bc93c379>\u001b[0m in \u001b[0;36mstream_tweets\u001b[1;34m(self, fetched_tweets_filename, hash_tag_list)\u001b[0m\n\u001b[0;32m      8\u001b[0m         \u001b[0mstream\u001b[0m \u001b[1;33m=\u001b[0m \u001b[0mStream\u001b[0m\u001b[1;33m(\u001b[0m\u001b[0mauth\u001b[0m\u001b[1;33m,\u001b[0m \u001b[0mlistener\u001b[0m\u001b[1;33m,\u001b[0m\u001b[0mtweet_mode\u001b[0m\u001b[1;33m=\u001b[0m\u001b[1;34m'extended'\u001b[0m\u001b[1;33m)\u001b[0m\u001b[1;33m\u001b[0m\u001b[0m\n\u001b[0;32m      9\u001b[0m \u001b[1;33m\u001b[0m\u001b[0m\n\u001b[1;32m---> 10\u001b[1;33m         \u001b[0mstream\u001b[0m\u001b[1;33m.\u001b[0m\u001b[0mfilter\u001b[0m\u001b[1;33m(\u001b[0m\u001b[0mlanguages\u001b[0m\u001b[1;33m=\u001b[0m\u001b[1;33m[\u001b[0m\u001b[1;34m\"en\"\u001b[0m\u001b[1;33m]\u001b[0m\u001b[1;33m,\u001b[0m\u001b[0mtrack\u001b[0m\u001b[1;33m=\u001b[0m\u001b[1;33m[\u001b[0m\u001b[1;34m'coronavirus'\u001b[0m\u001b[1;33m]\u001b[0m\u001b[1;33m)\u001b[0m\u001b[1;33m\u001b[0m\u001b[0m\n\u001b[0m\u001b[0;32m     11\u001b[0m \u001b[1;33m\u001b[0m\u001b[0m\n\u001b[0;32m     12\u001b[0m \u001b[1;33m\u001b[0m\u001b[0m\n",
      "\u001b[1;32m~\\Anaconda3\\lib\\site-packages\\tweepy\\streaming.py\u001b[0m in \u001b[0;36mfilter\u001b[1;34m(self, follow, track, is_async, locations, stall_warnings, languages, encoding, filter_level)\u001b[0m\n\u001b[0;32m    472\u001b[0m             \u001b[0mself\u001b[0m\u001b[1;33m.\u001b[0m\u001b[0mbody\u001b[0m\u001b[1;33m[\u001b[0m\u001b[1;34m'filter_level'\u001b[0m\u001b[1;33m]\u001b[0m \u001b[1;33m=\u001b[0m \u001b[0mfilter_level\u001b[0m\u001b[1;33m.\u001b[0m\u001b[0mencode\u001b[0m\u001b[1;33m(\u001b[0m\u001b[0mencoding\u001b[0m\u001b[1;33m)\u001b[0m\u001b[1;33m\u001b[0m\u001b[0m\n\u001b[0;32m    473\u001b[0m         \u001b[0mself\u001b[0m\u001b[1;33m.\u001b[0m\u001b[0msession\u001b[0m\u001b[1;33m.\u001b[0m\u001b[0mparams\u001b[0m \u001b[1;33m=\u001b[0m \u001b[1;33m{\u001b[0m\u001b[1;34m'delimited'\u001b[0m\u001b[1;33m:\u001b[0m \u001b[1;34m'length'\u001b[0m\u001b[1;33m}\u001b[0m\u001b[1;33m\u001b[0m\u001b[0m\n\u001b[1;32m--> 474\u001b[1;33m         \u001b[0mself\u001b[0m\u001b[1;33m.\u001b[0m\u001b[0m_start\u001b[0m\u001b[1;33m(\u001b[0m\u001b[0mis_async\u001b[0m\u001b[1;33m)\u001b[0m\u001b[1;33m\u001b[0m\u001b[0m\n\u001b[0m\u001b[0;32m    475\u001b[0m \u001b[1;33m\u001b[0m\u001b[0m\n\u001b[0;32m    476\u001b[0m     def sitestream(self, follow, stall_warnings=False,\n",
      "\u001b[1;32m~\\Anaconda3\\lib\\site-packages\\tweepy\\streaming.py\u001b[0m in \u001b[0;36m_start\u001b[1;34m(self, is_async)\u001b[0m\n\u001b[0;32m    387\u001b[0m             \u001b[0mself\u001b[0m\u001b[1;33m.\u001b[0m\u001b[0m_thread\u001b[0m\u001b[1;33m.\u001b[0m\u001b[0mstart\u001b[0m\u001b[1;33m(\u001b[0m\u001b[1;33m)\u001b[0m\u001b[1;33m\u001b[0m\u001b[0m\n\u001b[0;32m    388\u001b[0m         \u001b[1;32melse\u001b[0m\u001b[1;33m:\u001b[0m\u001b[1;33m\u001b[0m\u001b[0m\n\u001b[1;32m--> 389\u001b[1;33m             \u001b[0mself\u001b[0m\u001b[1;33m.\u001b[0m\u001b[0m_run\u001b[0m\u001b[1;33m(\u001b[0m\u001b[1;33m)\u001b[0m\u001b[1;33m\u001b[0m\u001b[0m\n\u001b[0m\u001b[0;32m    390\u001b[0m \u001b[1;33m\u001b[0m\u001b[0m\n\u001b[0;32m    391\u001b[0m     \u001b[1;32mdef\u001b[0m \u001b[0mon_closed\u001b[0m\u001b[1;33m(\u001b[0m\u001b[0mself\u001b[0m\u001b[1;33m,\u001b[0m \u001b[0mresp\u001b[0m\u001b[1;33m)\u001b[0m\u001b[1;33m:\u001b[0m\u001b[1;33m\u001b[0m\u001b[0m\n",
      "\u001b[1;32m~\\Anaconda3\\lib\\site-packages\\tweepy\\streaming.py\u001b[0m in \u001b[0;36m_run\u001b[1;34m(self)\u001b[0m\n\u001b[0;32m    287\u001b[0m                     \u001b[0mself\u001b[0m\u001b[1;33m.\u001b[0m\u001b[0msnooze_time\u001b[0m \u001b[1;33m=\u001b[0m \u001b[0mself\u001b[0m\u001b[1;33m.\u001b[0m\u001b[0msnooze_time_step\u001b[0m\u001b[1;33m\u001b[0m\u001b[0m\n\u001b[0;32m    288\u001b[0m                     \u001b[0mself\u001b[0m\u001b[1;33m.\u001b[0m\u001b[0mlistener\u001b[0m\u001b[1;33m.\u001b[0m\u001b[0mon_connect\u001b[0m\u001b[1;33m(\u001b[0m\u001b[1;33m)\u001b[0m\u001b[1;33m\u001b[0m\u001b[0m\n\u001b[1;32m--> 289\u001b[1;33m                     \u001b[0mself\u001b[0m\u001b[1;33m.\u001b[0m\u001b[0m_read_loop\u001b[0m\u001b[1;33m(\u001b[0m\u001b[0mresp\u001b[0m\u001b[1;33m)\u001b[0m\u001b[1;33m\u001b[0m\u001b[0m\n\u001b[0m\u001b[0;32m    290\u001b[0m             \u001b[1;32mexcept\u001b[0m \u001b[1;33m(\u001b[0m\u001b[0mTimeout\u001b[0m\u001b[1;33m,\u001b[0m \u001b[0mssl\u001b[0m\u001b[1;33m.\u001b[0m\u001b[0mSSLError\u001b[0m\u001b[1;33m)\u001b[0m \u001b[1;32mas\u001b[0m \u001b[0mexc\u001b[0m\u001b[1;33m:\u001b[0m\u001b[1;33m\u001b[0m\u001b[0m\n\u001b[0;32m    291\u001b[0m                 \u001b[1;31m# This is still necessary, as a SSLError can actually be\u001b[0m\u001b[1;33m\u001b[0m\u001b[1;33m\u001b[0m\u001b[0m\n",
      "\u001b[1;32m~\\Anaconda3\\lib\\site-packages\\tweepy\\streaming.py\u001b[0m in \u001b[0;36m_read_loop\u001b[1;34m(self, resp)\u001b[0m\n\u001b[0;32m    349\u001b[0m             \u001b[0mnext_status_obj\u001b[0m \u001b[1;33m=\u001b[0m \u001b[0mbuf\u001b[0m\u001b[1;33m.\u001b[0m\u001b[0mread_len\u001b[0m\u001b[1;33m(\u001b[0m\u001b[0mlength\u001b[0m\u001b[1;33m)\u001b[0m\u001b[1;33m\u001b[0m\u001b[0m\n\u001b[0;32m    350\u001b[0m             \u001b[1;32mif\u001b[0m \u001b[0mself\u001b[0m\u001b[1;33m.\u001b[0m\u001b[0mrunning\u001b[0m \u001b[1;32mand\u001b[0m \u001b[0mnext_status_obj\u001b[0m\u001b[1;33m:\u001b[0m\u001b[1;33m\u001b[0m\u001b[0m\n\u001b[1;32m--> 351\u001b[1;33m                 \u001b[0mself\u001b[0m\u001b[1;33m.\u001b[0m\u001b[0m_data\u001b[0m\u001b[1;33m(\u001b[0m\u001b[0mnext_status_obj\u001b[0m\u001b[1;33m)\u001b[0m\u001b[1;33m\u001b[0m\u001b[0m\n\u001b[0m\u001b[0;32m    352\u001b[0m \u001b[1;33m\u001b[0m\u001b[0m\n\u001b[0;32m    353\u001b[0m             \u001b[1;31m# # Note: keep-alive newlines might be inserted before each length value.\u001b[0m\u001b[1;33m\u001b[0m\u001b[1;33m\u001b[0m\u001b[0m\n",
      "\u001b[1;32m~\\Anaconda3\\lib\\site-packages\\tweepy\\streaming.py\u001b[0m in \u001b[0;36m_data\u001b[1;34m(self, data)\u001b[0m\n\u001b[0;32m    321\u001b[0m \u001b[1;33m\u001b[0m\u001b[0m\n\u001b[0;32m    322\u001b[0m     \u001b[1;32mdef\u001b[0m \u001b[0m_data\u001b[0m\u001b[1;33m(\u001b[0m\u001b[0mself\u001b[0m\u001b[1;33m,\u001b[0m \u001b[0mdata\u001b[0m\u001b[1;33m)\u001b[0m\u001b[1;33m:\u001b[0m\u001b[1;33m\u001b[0m\u001b[0m\n\u001b[1;32m--> 323\u001b[1;33m         \u001b[1;32mif\u001b[0m \u001b[0mself\u001b[0m\u001b[1;33m.\u001b[0m\u001b[0mlistener\u001b[0m\u001b[1;33m.\u001b[0m\u001b[0mon_data\u001b[0m\u001b[1;33m(\u001b[0m\u001b[0mdata\u001b[0m\u001b[1;33m)\u001b[0m \u001b[1;32mis\u001b[0m \u001b[1;32mFalse\u001b[0m\u001b[1;33m:\u001b[0m\u001b[1;33m\u001b[0m\u001b[0m\n\u001b[0m\u001b[0;32m    324\u001b[0m             \u001b[0mself\u001b[0m\u001b[1;33m.\u001b[0m\u001b[0mrunning\u001b[0m \u001b[1;33m=\u001b[0m \u001b[1;32mFalse\u001b[0m\u001b[1;33m\u001b[0m\u001b[0m\n\u001b[0;32m    325\u001b[0m \u001b[1;33m\u001b[0m\u001b[0m\n",
      "\u001b[1;32m<ipython-input-15-5442bc93c379>\u001b[0m in \u001b[0;36mon_data\u001b[1;34m(self, data)\u001b[0m\n\u001b[0;32m     76\u001b[0m             (text, info))\n\u001b[0;32m     77\u001b[0m \u001b[1;33m\u001b[0m\u001b[0m\n\u001b[1;32m---> 78\u001b[1;33m         \u001b[0mconn\u001b[0m\u001b[1;33m.\u001b[0m\u001b[0mcommit\u001b[0m\u001b[1;33m(\u001b[0m\u001b[1;33m)\u001b[0m\u001b[1;33m\u001b[0m\u001b[0m\n\u001b[0m",
      "\u001b[1;31mKeyboardInterrupt\u001b[0m: "
     ]
    }
   ],
   "source": [
    "if __name__ == '__main__':\n",
    "    \n",
    "    hash_tag_list = ['coronavirus']\n",
    "    fetched_tweets_filename = \"tweets.json\"\n",
    "    \n",
    "    twitter_streamer = TwitterStreamer()\n",
    "    twitter_streamer.stream_tweets(fetched_tweets_filename, hash_tag_list)"
   ]
  },
  {
   "cell_type": "code",
   "execution_count": null,
   "metadata": {},
   "outputs": [],
   "source": []
  }
 ],
 "metadata": {
  "kernelspec": {
   "display_name": "Python 3",
   "language": "python",
   "name": "python3"
  },
  "language_info": {
   "codemirror_mode": {
    "name": "ipython",
    "version": 3
   },
   "file_extension": ".py",
   "mimetype": "text/x-python",
   "name": "python",
   "nbconvert_exporter": "python",
   "pygments_lexer": "ipython3",
   "version": "3.6.5"
  }
 },
 "nbformat": 4,
 "nbformat_minor": 2
}
