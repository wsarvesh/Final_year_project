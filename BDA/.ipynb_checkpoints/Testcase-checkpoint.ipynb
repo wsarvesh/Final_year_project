{
 "cells": [
  {
   "cell_type": "code",
   "execution_count": 1,
   "metadata": {},
   "outputs": [],
   "source": [
    "from tweepy import Stream\n",
    "from tweepy import OAuthHandler\n",
    "from tweepy.streaming import StreamListener\n",
    "import tweepy\n",
    "import json\n",
    "from pymongo import MongoClient"
   ]
  },
  {
   "cell_type": "code",
   "execution_count": 2,
   "metadata": {},
   "outputs": [],
   "source": [
    "CONSUMER_KEY = \"2JVagNOKjYSMvSMXa2tvqnZrs\"\n",
    "CONSUMER_SECRET = \"CMoo54u0XJwydvUWK3qH4COXU0UZwkNEWRVTUNAiX1mFCtAqvg\"\n",
    "ACCESS_TOKEN = \"1071763518452457472-hnCqhz5sOFVH1jsjoVxDnJQCyKbzhg\"\n",
    "ACCESS_TOKEN_SECRET = \"oTf4s3hwfJsTxZFknrBZ8UrR6tPsjfpIkS9YYOHzoc9iD\""
   ]
  },
  {
   "cell_type": "code",
   "execution_count": 7,
   "metadata": {},
   "outputs": [],
   "source": [
    "def buildTrainingSet(corpusFile, tweetDataFile):\n",
    "    import csv\n",
    "    import time\n",
    "    \n",
    "    apple = []\n",
    "    \n",
    "    with open(corpusFile,'r') as csvfile:\n",
    "        lineReader = csv.reader(csvfile,delimiter=',', quotechar=\"\\\"\")\n",
    "        for row in lineReader:\n",
    "            corpus.append({\"tweet_id\":row[0]})\n",
    "            \n",
    "    rate_limit = 180\n",
    "    sleep_time = 900/180\n",
    "    \n",
    "    trainingDataSet = []\n",
    "    i = 0\n",
    "    print(\"1\")\n",
    "    for tweet in corpus:\n",
    "#         print(\"2\")\n",
    "        try :\n",
    "            status = api.get_status(tweet[\"tweet_id\"])\n",
    "            print(\"Tweet fetched\" + status.text)\n",
    "            tweet[\"text\"] = status.text\n",
    "            trainingDataSet.append(tweet)\n",
    "            print(i)\n",
    "            data = {\"tweet_id\" : tweet[\"tweet_id\"],\"text\" : tweet[\"text\"]}\n",
    "            db.tweetdb.insert(data)\n",
    "            i = i + 1\n",
    "            \n",
    "            time.sleep(sleep_time)\n",
    "        except:\n",
    "            continue\n",
    "            \n",
    "    # now we write them to the empty CSV file\n",
    "#     with open(tweetDataFile,'wb') as csvfile:\n",
    "#         linewriter = csv.writer(csvfile,delimiter=',',quotechar=\"\\\"\")\n",
    "#         for tweet in trainingDataSet:\n",
    "#             try:\n",
    "#                 linewriter.writerow([tweet[\"tweet_id\"], tweet[\"text\"], tweet[\"label\"], tweet[\"topic\"]])\n",
    "#             except Exception as e:\n",
    "#                 print(e)\n",
    "    return testingDataSet"
   ]
  },
  {
   "cell_type": "code",
   "execution_count": null,
   "metadata": {},
   "outputs": [],
   "source": []
  }
 ],
 "metadata": {
  "kernelspec": {
   "display_name": "Python 3",
   "language": "python",
   "name": "python3"
  },
  "language_info": {
   "codemirror_mode": {
    "name": "ipython",
    "version": 3
   },
   "file_extension": ".py",
   "mimetype": "text/x-python",
   "name": "python",
   "nbconvert_exporter": "python",
   "pygments_lexer": "ipython3",
   "version": "3.6.4"
  }
 },
 "nbformat": 4,
 "nbformat_minor": 2
}
