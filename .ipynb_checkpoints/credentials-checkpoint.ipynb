{
 "cells": [
  {
   "cell_type": "code",
   "execution_count": null,
   "metadata": {},
   "outputs": [],
   "source": [
    "ACCESS_TOKEN = \"1071763518452457472-hnCqhz5sOFVH1jsjoVxDnJQCyKbzhg\"\n",
    "ACCESS_TOKEN_SECRET = \"oTf4s3hwfJsTxZFknrBZ8UrR6tPsjfpIkS9YYOHzoc9iD\"\n",
    "CONSUMER_KEY = \"2JVagNOKjYSMvSMXa2tvqnZrs\"\n",
    "CONSUMER_SECRET = \"CMoo54u0XJwydvUWK3qH4COXU0UZwkNEWRVTUNAiX1mFCtAqvg\""
   ]
  }
 ],
 "metadata": {
  "kernelspec": {
   "display_name": "Python 3",
   "language": "python",
   "name": "python3"
  },
  "language_info": {
   "codemirror_mode": {
    "name": "ipython",
    "version": 3
   },
   "file_extension": ".py",
   "mimetype": "text/x-python",
   "name": "python",
   "nbconvert_exporter": "python",
   "pygments_lexer": "ipython3",
   "version": "3.6.5"
  }
 },
 "nbformat": 4,
 "nbformat_minor": 2
}
